{
 "cells": [
  {
   "cell_type": "markdown",
   "metadata": {
    "deletable": false,
    "editable": false,
    "run_control": {
     "frozen": true
    }
   },
   "source": [
    "## Chapter 13: Data Association"
   ]
  },
  {
   "cell_type": "markdown",
   "metadata": {
    "deletable": false,
    "editable": false,
    "run_control": {
     "frozen": true
    }
   },
   "source": [
    "In this notebook, you will learn how to use association to identify patterns within datasets, such as the items a customer often purchases together at a grocery store, the links on a Web site upon which a customer clicks before making a purchase, and the snacks a fan purchases together at a ballgame.\n",
    "\n",
    "As you will learn, one of the most well-known association applications is the shopping-cart problem, which identifies the association between buying diapers and beer. You can think of this association process as looking in each shopping cart as customers leave the market and taking note of the items they bought. By noting that many of the carts that contained diapers also contained beer, you form an association. Data analysts often refer to this process as Market-Basket Analysis."
   ]
  },
  {
   "cell_type": "markdown",
   "metadata": {},
   "source": [
    "Some of the scripts presented in this notebook use several Python libraries which have been pre-installed for you. If you had been required to install these libaries on your own, you would issue the following commands:\n",
    "\n",
    "```python\n",
    "! pip install --user pandas\n",
    "! pip install --user numpy\n",
    "! pip install --user matplotlib\n",
    "! pip install --user apyori\n",
    "```"
   ]
  },
  {
   "cell_type": "markdown",
   "metadata": {
    "deletable": false,
    "editable": false,
    "run_control": {
     "frozen": true
    }
   },
   "source": [
    "# Understanding Support, Confidence, and Lift\n",
    "\n",
    "To determine the level of association between two variables (the antecedent, which was the first variable that existed, and the consequent, which is the variable that occurred following or as a result of the antecedent), we will examine four measures: support, confidence, lift, and conviction.\n",
    "\n",
    "* Support is a measure that specifies the frequency with which an item occurs within a data set.\n",
    "* Confidence is a measure that indicates the likelihood of the consequent based on a rule to all ocurrences of the     antecdent.\n",
    "* Lift is a measure that shows the ratio of confidence to the expected confidence.\n",
    "    \n",
    "\n",
    "The following Python script, DiapersAndBeer.py, uses the DiapersAndBeer dataset to calculate support, confidence, and lift:"
   ]
  },
  {
   "cell_type": "code",
   "execution_count": null,
   "metadata": {
    "scrolled": true
   },
   "outputs": [],
   "source": [
    "import pandas as pd\n",
    "from apyori import apriori\n",
    "\n",
    "data = pd.read_csv('DiapersAndBeer.csv', header=None)\n",
    "\n",
    "records = []\n",
    "for i in range(0, len(data)):  \n",
    "    records.append([str(data.values[i,j]) for j in range(0, len(data.columns))])\n",
    "\n",
    "rules = apriori(records, min_length=2)  \n",
    "results = list(rules)  \n",
    "\n",
    "for item in results:\n",
    "   print()\n",
    "   print(item)\n",
    "   print()\n",
    "   print(\"-----------------------\")"
   ]
  },
  {
   "cell_type": "markdown",
   "metadata": {
    "deletable": false,
    "editable": false,
    "run_control": {
     "frozen": true
    }
   },
   "source": [
    "As you can see, the program displays the results for each item and the combinations of items\n",
    "that occur in the shopping cart (called item sets). Within the combinations, you will see items_base,\n",
    "which specifies the antecedent.\n",
    "\n",
    "The following Python script, RealWorldApriori.py, uses the Groceries dataset to calculate support, confidence, and lift:"
   ]
  },
  {
   "cell_type": "code",
   "execution_count": null,
   "metadata": {
    "scrolled": true
   },
   "outputs": [],
   "source": [
    "######################################\n",
    "# Chapter 13 (Python) / Deliverable 1\n",
    "######################################\n",
    "\n",
    "import pandas as pd\n",
    "from apyori import apriori\n",
    "\n",
    "data = pd.read_csv('Groceries.csv', header=None)\n",
    "\n",
    "records = []\n",
    "for i in range(0, len(data)):  \n",
    "    records.append([str(data.values[i,j]) for j in range(0, len(data.columns))])\n",
    "\n",
    "rules = apriori(records, min_support=0.025, min_length=2, min_lift=1.2)  \n",
    "results = list(rules)  \n",
    "\n",
    "for item in results:\n",
    " if not 'nan' in str(item):\n",
    "   print()\n",
    "   print(item)\n",
    "   print()\n",
    "   print(\"-----------------------\")"
   ]
  },
  {
   "cell_type": "markdown",
   "metadata": {
    "deletable": false,
    "editable": false,
    "run_control": {
     "frozen": true
    }
   },
   "source": [
    "As you can see, the program opens the data set and then uses the apriori function to determine the association rules. The function call specifies the minimum number of items to consider as two and, to reduce uninteresting output, specifies minimum support and lift parameters."
   ]
  },
  {
   "cell_type": "markdown",
   "metadata": {
    "deletable": false,
    "editable": false,
    "run_control": {
     "frozen": true
    }
   },
   "source": [
    "# Dataset Summaries and Correlation\n",
    "\n",
    "\n",
    "The goal of association is to identify relationship patterns within a dataset that illustrate the influence of an antecedent variable on a consequent variable. Do not confuse association with correlation, which merely identifies a statistical relationship between two variables. Correlation can be negative, positive or nonexistent.\n",
    "\n",
    "The following Python script, Summary.py, loads the Auto-MPG dataset that contains data about different car models, such as the horsepower, weight, and miles per gallon (MPG). The script then uses the describe function to provide a summary of the dataset values, which includes each column’s min, max, mean, standard deviation, and so on:"
   ]
  },
  {
   "cell_type": "code",
   "execution_count": null,
   "metadata": {},
   "outputs": [],
   "source": [
    "import pandas as pd\n",
    "data = pd.read_csv('auto-mpg.csv')\n",
    "print(data.describe())"
   ]
  },
  {
   "cell_type": "markdown",
   "metadata": {
    "deletable": false,
    "editable": false,
    "run_control": {
     "frozen": true
    }
   },
   "source": [
    "As you can see, the describe function return the count, mean, min, max, standard deviation, a well as quartile values. Using the describe function, you can quickly gain insights into the data a dataset contains.\n",
    "\n",
    "The following Python script, MPGCorrelation.py, displays the correlation between MPG and other vehicle attributes:"
   ]
  },
  {
   "cell_type": "code",
   "execution_count": null,
   "metadata": {},
   "outputs": [],
   "source": [
    "######################################\n",
    "# Chapter 13 (Python) / Deliverable 2\n",
    "######################################\n",
    "\n",
    "\n",
    "import pandas as pd\n",
    "import numpy as np\n",
    "import matplotlib.pyplot as plt\n",
    "\n",
    "data = pd.read_csv('auto-mpg.csv')\n",
    "\n",
    "coefs = np.corrcoef(data['mpg'], data['weight'])\n",
    "plt.scatter(data['mpg'], data['weight'])\n",
    "plt.title('MPG and Weight Correlation: ' + str(coefs[0,1]))\n",
    "plt.show()\n",
    "\n",
    "coefs = np.corrcoef(data['mpg'], data['horsepower'])\n",
    "plt.scatter(data['mpg'], data['horsepower'])\n",
    "plt.title('MPG and Horsepower Correlation: ' + str(coefs[0,1]))\n",
    "plt.show()\n",
    "\n",
    "coefs = np.corrcoef(data['mpg'], data['acceleration'])\n",
    "plt.scatter(data['mpg'], data['acceleration'])\n",
    "plt.title('MPG and Acceleration Correlation: ' + str(coefs[0,1]))\n",
    "plt.show()"
   ]
  }
 ],
 "metadata": {
  "kernelspec": {
   "display_name": "Python 3",
   "language": "python",
   "name": "python3"
  },
  "language_info": {
   "codemirror_mode": {
    "name": "ipython",
    "version": 3
   },
   "file_extension": ".py",
   "mimetype": "text/x-python",
   "name": "python",
   "nbconvert_exporter": "python",
   "pygments_lexer": "ipython3",
   "version": "3.7.6"
  }
 },
 "nbformat": 4,
 "nbformat_minor": 4
}
