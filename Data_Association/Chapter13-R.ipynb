{
 "cells": [
  {
   "cell_type": "markdown",
   "metadata": {
    "deletable": false,
    "editable": false,
    "run_control": {
     "frozen": true
    }
   },
   "source": [
    "## Chapter 13: Data Association"
   ]
  },
  {
   "cell_type": "markdown",
   "metadata": {
    "deletable": false,
    "editable": false,
    "run_control": {
     "frozen": true
    }
   },
   "source": [
    "In this notebook, you will learn how to use association to identify patterns within datasets, such as the items a customer often purchases together at a grocery store, the links on a Web site upon which a customer clicks before making a purchase, and the snacks a fan purchases together at a ballgame.\n",
    "\n",
    "As you will learn, one of the most well-known association applications is the shopping-cart problem which identified the association between buying diapers and beer. You can think of this association process as looking in each shopping cart as customers leave the market and taking note of the items they bought. By noting that many of the carts that contained diapers also contained beer, you form an association. Data analysts often refer to this process as Market Basket Analysis."
   ]
  },
  {
   "cell_type": "markdown",
   "metadata": {
    "deletable": false,
    "editable": false,
    "run_control": {
     "frozen": true
    }
   },
   "source": [
    "Some of the scripts presented in this notebook use R libraries (known as packages) which have been pre-installed for you. If you had been required to install these libaries on your own, you would issue the commands below.\n",
    "\n",
    "```R\n",
    "install.packages(\"arules\")\n",
    "install.packages(\"datasets\")\n",
    "```"
   ]
  },
  {
   "cell_type": "markdown",
   "metadata": {
    "deletable": false,
    "editable": false,
    "run_control": {
     "frozen": true
    }
   },
   "source": [
    "# Understanding Support, Confidence, and Lift\n",
    "\n",
    "To determine the level of association between two variables (the antecedent, which was the first variable that existed, and the consequent, which is the variable that occurred following or as a result of the antecedent), we will examine four measures: support, confidence, lift, and conviction.\n",
    "\n",
    "* Support is a measure that specifies the frequency with which an item occurs within a data set.\n",
    "* Confidence is a measure that indicates the likelihood of the consequent based on a rule to all ocurrences of the     antecedent.\n",
    "* Lift is a measure that shows the ratio of confidence to the expected confidence.\n",
    "\n",
    "The following R script, DiapersAndBeer.R, uses the DiapersAndBeer data to calculate support, confidence, and lift. The antecedents are represented in the lhs (left-hand side) column, and the consequents in the rhs (right-hand side):"
   ]
  },
  {
   "cell_type": "code",
   "execution_count": null,
   "metadata": {
    "scrolled": true
   },
   "outputs": [],
   "source": [
    "library(arules)\n",
    "library(datasets)\n",
    "\n",
    "df <- read.csv(file='DiapersAndBeer.csv')\n",
    "\n",
    "rules <- apriori(df)\n",
    "inspect(rules)"
   ]
  },
  {
   "cell_type": "markdown",
   "metadata": {
    "deletable": false,
    "editable": false,
    "run_control": {
     "frozen": true
    }
   },
   "source": [
    "The following R script, RealWorldApriori.R, uses the Groceries dataset to calculate support, confidence, and lift, and specifies that only item associations with a minimum support of 0.001 and minimum confidence of 0.9 be returned:"
   ]
  },
  {
   "cell_type": "code",
   "execution_count": null,
   "metadata": {
    "scrolled": true
   },
   "outputs": [],
   "source": [
    "#################################\n",
    "# Chapter 13 (R) / Deliverable 1\n",
    "#################################\n",
    "\n",
    "library(arules)\n",
    "library(datasets)\n",
    "\n",
    "data(Groceries)\n",
    "\n",
    "rules <- apriori(Groceries, parameter = list(supp = 0.001, conf = 0.9))\n",
    "\n",
    "inspect(rules)"
   ]
  },
  {
   "cell_type": "markdown",
   "metadata": {
    "deletable": false,
    "editable": false,
    "run_control": {
     "frozen": true
    }
   },
   "source": [
    "# Dataset Summaries and Correlation\n",
    "\n",
    "\n",
    "The goal of association is to identify relationship patterns within a dataset that illustrate the influence of an antecedent variable on a consequent variable. Do not confuse association with correlation which identifies a statistical relationship between two variables. Correlation can be negative, positive or nonexistent.\n",
    "\n",
    "The following R script, Summary.R, loads the Auto-MPG dataset that contains data about different car models such as the horsepower, weight, and miles per gallon (MPG) . The script then uses the describe function to provide a summary of the dataset values, which includes each column’s min, max, mean, standard deviation, and so on:"
   ]
  },
  {
   "cell_type": "code",
   "execution_count": null,
   "metadata": {},
   "outputs": [],
   "source": [
    "df <- read.csv(file='auto-mpg.csv')\n",
    "print(summary(df))"
   ]
  },
  {
   "cell_type": "markdown",
   "metadata": {
    "deletable": false,
    "editable": false,
    "run_control": {
     "frozen": true
    }
   },
   "source": [
    "As you can see, the describe function returns the count, mean, min, max, standard deviation, a well as quartile values. Using the describe function, you can quickly gain insights into the data a dataset contains.\n",
    "\n",
    "The following R script, MPGCorrelation.R, displays the correlation between MPG and other vehicle attributes:"
   ]
  },
  {
   "cell_type": "code",
   "execution_count": null,
   "metadata": {},
   "outputs": [],
   "source": [
    "#################################\n",
    "# Chapter 13 (R) / Deliverable 2\n",
    "#################################\n",
    "\n",
    "df <- read.csv(file='auto-mpg.csv')\n",
    "\n",
    "plots <- par(mfrow=c(1, 3)) \n",
    "\n",
    "corr <- cor(df$mpg, df$displacement)\n",
    "title <- paste(\"MPG / Weight \", sprintf(\"%s\", corr))\n",
    "plot(df$weight, df$mpg, main=title,\n",
    "   xlab=\"Car Weight \", ylab=\"Miles Per Gallon \")\n",
    "\n",
    "corr <- cor(df$mpg, df$origin) \n",
    "title <- paste(\"         MPG / Horsepower \", sprintf(\"%s\", corr))\n",
    "plot(df$horsepower, df$mpg, main=title,\n",
    "   xlab=\"Car Horsepower \", ylab=\"Miles Per Gallon \")\n",
    "\n",
    "corr <- cor(df$mpg, df$acceleration)   # assign the variables to be correlated\n",
    "title <- paste(\"       MPG / Acceleration \", sprintf(\"%s\", corr))\n",
    "plot(df$acceleration, df$mpg, main=title,  # assign the variables to be plotted\n",
    "   xlab=\"Car Acceleration \", ylab=\"Miles Per Gallon \")\n",
    "\n",
    "par(plots)"
   ]
  }
 ],
 "metadata": {
  "kernelspec": {
   "display_name": "R",
   "language": "R",
   "name": "ir"
  },
  "language_info": {
   "codemirror_mode": "r",
   "file_extension": ".r",
   "mimetype": "text/x-r-source",
   "name": "R",
   "pygments_lexer": "r",
   "version": "3.6.2"
  }
 },
 "nbformat": 4,
 "nbformat_minor": 4
}
