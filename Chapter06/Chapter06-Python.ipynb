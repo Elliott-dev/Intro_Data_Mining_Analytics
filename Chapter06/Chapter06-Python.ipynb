{
 "cells": [
  {
   "cell_type": "markdown",
   "metadata": {
    "deletable": false,
    "editable": false,
    "run_control": {
     "frozen": true
    }
   },
   "source": [
    "## Chapter 6: Keep SQL in Your Toolset"
   ]
  },
  {
   "cell_type": "markdown",
   "metadata": {
    "deletable": false,
    "editable": false,
    "run_control": {
     "frozen": true
    }
   },
   "source": [
    "For over 50 years, SQL, the Structured Query Language, has been the primary way database developers create and manipulate table-based relational databases. In fact, developers often refer to relational databases as SQL databases. This chapter examines SQL operations in detail. As you will learn, SQL is the language you will use to speak (interact) with a database and the tables it contains. SQL provides queries that let you create databases, tables within the database, and then to insert, update, and delete data records within those tables."
   ]
  },
  {
   "cell_type": "markdown",
   "metadata": {
    "deletable": false,
    "editable": false,
    "run_control": {
     "frozen": true
    },
    "slideshow": {
     "slide_type": "-"
    }
   },
   "source": [
    "This notebook performs operations on databases which have been pre-built for you. The commands used to build these databases can be found in the chapter06-databases.sql script file located in the chapter folder.\n",
    "\n",
    "*Note: None of the code found in this notebook is valid in the Jupyter environment. You are to run the code in the MySQL Workbench instance you prepared in *Getting Started with MySQL Workbench.*"
   ]
  },
  {
   "cell_type": "markdown",
   "metadata": {
    "deletable": false,
    "editable": false,
    "run_control": {
     "frozen": true
    }
   },
   "source": [
    "# Performing Database Queries\n",
    "\n",
    "Before you can use SELECT to query a table within a database, you first must issue the SQL USE query to specify the database you want to use. To view the list of available databases to which you can connect, issue the SHOW DATABASES query:"
   ]
  },
  {
   "cell_type": "code",
   "execution_count": null,
   "metadata": {
    "deletable": false,
    "editable": false,
    "run_control": {
     "frozen": true
    }
   },
   "outputs": [],
   "source": [
    "SHOW DATABASES"
   ]
  },
  {
   "cell_type": "markdown",
   "metadata": {
    "deletable": false,
    "editable": false,
    "run_control": {
     "frozen": true
    }
   },
   "source": [
    "The following USE command, for example, directs the database server to use the CHAPTER06 database."
   ]
  },
  {
   "cell_type": "code",
   "execution_count": null,
   "metadata": {
    "deletable": false,
    "editable": false,
    "run_control": {
     "frozen": true
    }
   },
   "outputs": [],
   "source": [
    "USE CHAPTER06"
   ]
  },
  {
   "cell_type": "markdown",
   "metadata": {
    "deletable": false,
    "editable": false,
    "run_control": {
     "frozen": true
    }
   },
   "source": [
    "To view the list of tables the database contains, issue the SHOW TABLES query:"
   ]
  },
  {
   "cell_type": "code",
   "execution_count": null,
   "metadata": {
    "deletable": false,
    "editable": false,
    "run_control": {
     "frozen": true
    }
   },
   "outputs": [],
   "source": [
    "SHOW TABLES"
   ]
  },
  {
   "cell_type": "markdown",
   "metadata": {
    "deletable": false,
    "editable": false,
    "run_control": {
     "frozen": true
    }
   },
   "source": [
    "Using the SELECT query, you specify the names of columns you want your database query to return. For example, the following SELECT query returns the Lastname column for all records within the Employees table:"
   ]
  },
  {
   "cell_type": "code",
   "execution_count": null,
   "metadata": {
    "deletable": false,
    "editable": false,
    "run_control": {
     "frozen": true
    }
   },
   "outputs": [],
   "source": [
    "SELECT Lastname FROM Employees"
   ]
  },
  {
   "cell_type": "markdown",
   "metadata": {
    "deletable": false,
    "editable": false,
    "run_control": {
     "frozen": true
    }
   },
   "source": [
    "Often, you will want to retrieve data for more than one field. In such cases, you simply separate the field names with commas. The following SELECT query, for example, displays each employee’s first name, last name, and e-mail address:"
   ]
  },
  {
   "cell_type": "code",
   "execution_count": null,
   "metadata": {
    "deletable": false,
    "editable": false,
    "run_control": {
     "frozen": true
    }
   },
   "outputs": [],
   "source": [
    "############################\n",
    "# Chapter 6 / Deliverable 1\n",
    "############################\n",
    "\n",
    "SELECT Firstname, Lastname, Email FROM Employees"
   ]
  },
  {
   "cell_type": "markdown",
   "metadata": {
    "deletable": false,
    "editable": false,
    "run_control": {
     "frozen": true
    }
   },
   "source": [
    "When you first start working with a table, you may not know the names of the table fields and you may want to take a look at the data the table contains. In such cases, use the asterisk wildcard character to direct SELECT to return all the fields for each record in table as shown here:"
   ]
  },
  {
   "cell_type": "code",
   "execution_count": null,
   "metadata": {
    "deletable": false,
    "editable": false,
    "run_control": {
     "frozen": true
    }
   },
   "outputs": [],
   "source": [
    "SELECT * FROM Employees"
   ]
  },
  {
   "cell_type": "markdown",
   "metadata": {
    "deletable": false,
    "editable": false,
    "run_control": {
     "frozen": true
    }
   },
   "source": [
    "When you execute a SELECT query, SQL will display all the matching records. When your tables are small, displaying all the records may not be a problem. As your table size increases, you can limit the number of records SELECT returns using the LIMIT keyword and specifying the number of records you desire. The following SELECT query, for example, uses LIMIT to direct SELECT to display only the first five records in the Employees table:"
   ]
  },
  {
   "cell_type": "code",
   "execution_count": null,
   "metadata": {
    "deletable": false,
    "editable": false,
    "run_control": {
     "frozen": true
    }
   },
   "outputs": [],
   "source": [
    "SELECT * FROM Employees LIMIT 5"
   ]
  },
  {
   "cell_type": "markdown",
   "metadata": {
    "deletable": false,
    "editable": false,
    "run_control": {
     "frozen": true
    }
   },
   "source": [
    "# Sorting Query Results\n",
    "\n",
    "Often, the first way database developers analyze data is simply to sort the data from highest to lowest (descending) or lowest to highest (ascending) order based on the value of one or more fields. To sort the results of a SELECT query, you use the ORDER BY clause. The following SELECT query, for example, sorts the Employees table by last name:"
   ]
  },
  {
   "cell_type": "code",
   "execution_count": null,
   "metadata": {
    "deletable": false,
    "editable": false,
    "run_control": {
     "frozen": true
    }
   },
   "outputs": [],
   "source": [
    "SELECT * FROM Employees ORDER BY LastName"
   ]
  },
  {
   "cell_type": "markdown",
   "metadata": {
    "deletable": false,
    "editable": false,
    "run_control": {
     "frozen": true
    }
   },
   "source": [
    "To sort records in descending order, you include the DESC keyword after your sort-field names. Similarly, to force ascending order, you use the ASC keyword. The following SELECT query displays students by GPA in descending order:"
   ]
  },
  {
   "cell_type": "code",
   "execution_count": null,
   "metadata": {
    "deletable": false,
    "editable": false,
    "run_control": {
     "frozen": true
    }
   },
   "outputs": [],
   "source": [
    "SELECT * FROM Students ORDER BY GPA DESC"
   ]
  },
  {
   "cell_type": "markdown",
   "metadata": {},
   "source": [
    "Depending on your data, there may be times when you will want to sort your query results based upon multiple fields. In such cases, you separate those fields with commas following the ORDER BY clause. SQL will first sort the data based upon the first field. Then, within that sorted results, SQL with sort related records based upon the second field. SQL will perform similar processing for the remaining fields. For example, the following SELECT query will sort employee data by region, and then by last name:"
   ]
  },
  {
   "cell_type": "code",
   "execution_count": null,
   "metadata": {
    "deletable": false,
    "editable": false,
    "run_control": {
     "frozen": true
    }
   },
   "outputs": [],
   "source": [
    "############################\n",
    "# Chapter 6 / Deliverable 2\n",
    "############################\n",
    "\n",
    "SELECT * FROM Employees ORDER BY Region, Lastname"
   ]
  },
  {
   "cell_type": "markdown",
   "metadata": {
    "deletable": false,
    "editable": false,
    "run_control": {
     "frozen": true
    }
   },
   "source": [
    "# Selecting Rows that Meet a Specific Criteria\n",
    "\n",
    "By default, the SELECT query will return every record the specified table contains. When your tables are small, viewing all records may be fine. Normally, however, you want to retrieve only those records that meet a specific condition, such as students with a grade of B or higher, salespeople working on the West Coast, or products with an inventory level greater than 100. Database developers refer to such query operations as filtering the data.\n",
    "\n",
    "To specify a condition within a SELECT query, you add a WHERE clause:\n",
    "\n",
    "```mysql\n",
    "SELECT Field(s) FROM Table WHERE Condition\n",
    "```\n",
    "\n",
    "Assume, for example, you are using the Employees table previously shown. The following SELECT query uses a WHERE clause to display only those employees working in New York:"
   ]
  },
  {
   "cell_type": "code",
   "execution_count": null,
   "metadata": {
    "deletable": false,
    "editable": false,
    "run_control": {
     "frozen": true
    }
   },
   "outputs": [],
   "source": [
    "############################\n",
    "# Chapter 6 / Deliverable 3\n",
    "############################\n",
    "\n",
    "SELECT * FROM Employees WHERE City='New York'"
   ]
  },
  {
   "cell_type": "markdown",
   "metadata": {
    "deletable": false,
    "editable": false,
    "run_control": {
     "frozen": true
    }
   },
   "source": [
    "In a similar way, the following query uses a WHERE clause to view records for employees with the last name ‘Smith’:"
   ]
  },
  {
   "cell_type": "code",
   "execution_count": null,
   "metadata": {
    "deletable": false,
    "editable": false,
    "run_control": {
     "frozen": true
    }
   },
   "outputs": [],
   "source": [
    "SELECT * FROM Employees WHERE Lastname='Smith'"
   ]
  },
  {
   "cell_type": "markdown",
   "metadata": {
    "deletable": false,
    "editable": false,
    "run_control": {
     "frozen": true
    }
   },
   "source": [
    "Finally, the following SELECT query will display the first name, last name, and phone numbers for employees who work in California:"
   ]
  },
  {
   "cell_type": "code",
   "execution_count": null,
   "metadata": {
    "deletable": false,
    "editable": false,
    "run_control": {
     "frozen": true
    }
   },
   "outputs": [],
   "source": [
    "SELECT Firstname, Lastname, Phone FROM Employees WHERE State='California'"
   ]
  },
  {
   "cell_type": "markdown",
   "metadata": {
    "deletable": false,
    "editable": false,
    "run_control": {
     "frozen": true
    }
   },
   "source": [
    "# Using Conditional Operators\n",
    "\n",
    "The previous queries have used the SQL equality operator, the equals sign (=), to test for columns whose values are equal to the value specified in the WHERE clause. However, SQL also supports several relational operators you can use within a WHERE clause condition.\n",
    "\n",
    "The following query, for example, uses the greater-than-or-equal-to (>=) relational operator to display employees who have worked for the company for 10 or more years:"
   ]
  },
  {
   "cell_type": "code",
   "execution_count": null,
   "metadata": {
    "deletable": false,
    "editable": false,
    "run_control": {
     "frozen": true
    }
   },
   "outputs": [],
   "source": [
    "SELECT * FROM Employees WHERE Years >= 10"
   ]
  },
  {
   "cell_type": "markdown",
   "metadata": {
    "deletable": false,
    "editable": false,
    "run_control": {
     "frozen": true
    }
   },
   "source": [
    "In a similar way, the following query lists employees who make less than $30,000:"
   ]
  },
  {
   "cell_type": "code",
   "execution_count": null,
   "metadata": {
    "deletable": false,
    "editable": false,
    "run_control": {
     "frozen": true
    }
   },
   "outputs": [],
   "source": [
    "SELECT * FROM Employees WHERE Salary < 30000"
   ]
  },
  {
   "cell_type": "markdown",
   "metadata": {},
   "source": [
    "The SQL BETWEEN operator lets you compare a range of values. For example, the following query returns the employees that make between \\$50,000 and \\\\$75,000 a year:"
   ]
  },
  {
   "cell_type": "code",
   "execution_count": null,
   "metadata": {
    "deletable": false,
    "editable": false,
    "run_control": {
     "frozen": true
    }
   },
   "outputs": [],
   "source": [
    "############################\n",
    "# Chapter 6 / Deliverable 4\n",
    "############################\n",
    "\n",
    "SELECT * FROM Employees WHERE Salary BETWEEN 50000 AND 75000"
   ]
  },
  {
   "cell_type": "markdown",
   "metadata": {
    "deletable": false,
    "editable": false,
    "run_control": {
     "frozen": true
    }
   },
   "source": [
    "The SQL IN operator lists you compare a column’s value to a specified set of values. For example, the following query lists the employees that live in New York, Los Angeles, or Seattle:"
   ]
  },
  {
   "cell_type": "code",
   "execution_count": null,
   "metadata": {
    "deletable": false,
    "editable": false,
    "run_control": {
     "frozen": true
    }
   },
   "outputs": [],
   "source": [
    "SELECT * FROM Employees WHERE CITY IN ('New York', 'Los Angeles', 'Seattle')"
   ]
  },
  {
   "cell_type": "markdown",
   "metadata": {
    "deletable": false,
    "editable": false,
    "run_control": {
     "frozen": true
    }
   },
   "source": [
    "The following SELECT query uses the percent-sign wildcard with the LIKE clause to display Employees whose last names begin with the letters ‘Jo’:"
   ]
  },
  {
   "cell_type": "code",
   "execution_count": null,
   "metadata": {
    "deletable": false,
    "editable": false,
    "run_control": {
     "frozen": true
    }
   },
   "outputs": [],
   "source": [
    "SELECT * FROM Employees WHERE Lastname LIKE 'Jo%'"
   ]
  },
  {
   "cell_type": "markdown",
   "metadata": {
    "deletable": false,
    "editable": false,
    "run_control": {
     "frozen": true
    }
   },
   "source": [
    "In a similar way, the following SELECT query displays employees with New York area codes (212):"
   ]
  },
  {
   "cell_type": "code",
   "execution_count": null,
   "metadata": {
    "deletable": false,
    "editable": false,
    "run_control": {
     "frozen": true
    }
   },
   "outputs": [],
   "source": [
    "############################\n",
    "# Chapter 6 / Deliverable 5\n",
    "############################\n",
    "\n",
    "SELECT * FROM Employees WHERE Phone LIKE ('212%')"
   ]
  },
  {
   "cell_type": "markdown",
   "metadata": {
    "deletable": false,
    "editable": false,
    "run_control": {
     "frozen": true
    }
   },
   "source": [
    "Finally, this query uses two underscore wildcards to display employees who work in the west or east regions:"
   ]
  },
  {
   "cell_type": "code",
   "execution_count": null,
   "metadata": {
    "deletable": false,
    "editable": false,
    "run_control": {
     "frozen": true
    }
   },
   "outputs": [],
   "source": [
    "SELECT * FROM Employees WHERE Region LIKE '__ST'"
   ]
  },
  {
   "cell_type": "markdown",
   "metadata": {
    "deletable": false,
    "editable": false,
    "run_control": {
     "frozen": true
    }
   },
   "source": [
    "The following SELECT query uses the logical AND operator to display the salespeople who live in New York:"
   ]
  },
  {
   "cell_type": "code",
   "execution_count": null,
   "metadata": {
    "deletable": false,
    "editable": false,
    "run_control": {
     "frozen": true
    }
   },
   "outputs": [],
   "source": [
    "############################\n",
    "# Chapter 6 / Deliverable 6\n",
    "############################\n",
    "\n",
    "SELECT * FROM Employees WHERE City='New York' AND Team='Sales'"
   ]
  },
  {
   "cell_type": "markdown",
   "metadata": {
    "deletable": false,
    "editable": false,
    "run_control": {
     "frozen": true
    }
   },
   "source": [
    "The SQL logical AND operator includes a record only if both conditions are true. In this case, the query only considers a record a match if the City field is ‘New York’ and the record’s Team field is ‘Sales’. The SQL logical OR operator, in contrast, includes the record if either condition (or both) is true. The following SELECT query, for example, will list employees that work in either Sales or Marketing:"
   ]
  },
  {
   "cell_type": "code",
   "execution_count": null,
   "metadata": {
    "deletable": false,
    "editable": false,
    "run_control": {
     "frozen": true
    }
   },
   "outputs": [],
   "source": [
    "SELECT * FROM Employees WHERE Team='Sales' OR Team='Marketing'"
   ]
  },
  {
   "cell_type": "markdown",
   "metadata": {
    "deletable": false,
    "editable": false,
    "run_control": {
     "frozen": true
    }
   },
   "source": [
    "The SQL NOT operator directs SQL to include a record if the specified condition is not met. For example, the following query would list employees who do not live in California, New York, or Arizona:"
   ]
  },
  {
   "cell_type": "code",
   "execution_count": null,
   "metadata": {
    "deletable": false,
    "editable": false,
    "run_control": {
     "frozen": true
    }
   },
   "outputs": [],
   "source": [
    "SELECT * FROM Employees WHERE State NOT IN ('California', 'New York', 'Arizona')"
   ]
  },
  {
   "cell_type": "markdown",
   "metadata": {
    "deletable": false,
    "editable": false,
    "run_control": {
     "frozen": true
    }
   },
   "source": [
    "By default, when you perform a SELECT query, SQL displays the table’s field name at the top of the query results. For example, the following SELECT query displays all fields from the Employees table:"
   ]
  },
  {
   "cell_type": "code",
   "execution_count": null,
   "metadata": {
    "deletable": false,
    "editable": false,
    "run_control": {
     "frozen": true
    }
   },
   "outputs": [],
   "source": [
    "SELECT * FROM Employees"
   ]
  },
  {
   "cell_type": "markdown",
   "metadata": {
    "deletable": false,
    "editable": false,
    "run_control": {
     "frozen": true
    }
   },
   "source": [
    "When you execute this query, SQL will display the table’s field names across the top of its results followed by the field values.\n",
    "\n",
    "Depending on how you are using your query results, there may be times when you will want to direct SELECT to display specific field names. In such cases, you use the AS keyword. The following query, for example, directs SELECT to use the field names Employee Last Name and Employee Salary within the query results:"
   ]
  },
  {
   "cell_type": "code",
   "execution_count": null,
   "metadata": {
    "deletable": false,
    "editable": false,
    "run_control": {
     "frozen": true
    }
   },
   "outputs": [],
   "source": [
    "SELECT Lastname AS 'Employee Last Name', Salary As 'Employee Salary' FROM Employees"
   ]
  },
  {
   "cell_type": "markdown",
   "metadata": {
    "deletable": false,
    "editable": false,
    "run_control": {
     "frozen": true
    }
   },
   "source": [
    "# Using the SQL Built-in Aggregate Functions\n",
    "\n",
    "Another useful set of tools in the MySQL provides are the built-in aggregate functions, so-named because they work with an aggregate, or group, of records.\n",
    "\n",
    "One example is the SQL COUNT function, which you can use to determine the number of records the query returns. The following SQL query directs SELECT to display a count of the number of records in the Employees table:"
   ]
  },
  {
   "cell_type": "code",
   "execution_count": null,
   "metadata": {
    "deletable": false,
    "editable": false,
    "run_control": {
     "frozen": true
    }
   },
   "outputs": [],
   "source": [
    "SELECT COUNT(*) FROM Employees"
   ]
  },
  {
   "cell_type": "markdown",
   "metadata": {
    "deletable": false,
    "editable": false,
    "run_control": {
     "frozen": true
    }
   },
   "source": [
    "The following query, uses the AS keyword to direct SELECT to use the field name ‘Number of Records’ within the result:"
   ]
  },
  {
   "cell_type": "code",
   "execution_count": null,
   "metadata": {
    "deletable": false,
    "editable": false,
    "run_control": {
     "frozen": true
    }
   },
   "outputs": [],
   "source": [
    "############################\n",
    "# Chapter 6 / Deliverable 7\n",
    "############################\n",
    "\n",
    "SELECT COUNT(*) AS 'Number of Records' FROM Employees"
   ]
  },
  {
   "cell_type": "markdown",
   "metadata": {
    "deletable": false,
    "editable": false,
    "run_control": {
     "frozen": true
    }
   },
   "source": [
    "As we have learned, the SQL COUNT function returns the number of records a SELECT query returns. We can combine this function with a comparison operator to increase the specifity of our search. Take the following query for example, which uses COUNT to display the number of students with a GPA greater than 3.5:"
   ]
  },
  {
   "cell_type": "code",
   "execution_count": null,
   "metadata": {
    "deletable": false,
    "editable": false,
    "run_control": {
     "frozen": true
    }
   },
   "outputs": [],
   "source": [
    "SELECT COUNT(*) FROM Students WHERE GPA > 3.5"
   ]
  },
  {
   "cell_type": "markdown",
   "metadata": {
    "deletable": false,
    "editable": false,
    "run_control": {
     "frozen": true
    }
   },
   "source": [
    "In a similar way, the following query uses the AVG and STDDEV functions to display the average student GPA along with the standard deviation:"
   ]
  },
  {
   "cell_type": "code",
   "execution_count": null,
   "metadata": {
    "deletable": false,
    "editable": false,
    "run_control": {
     "frozen": true
    }
   },
   "outputs": [],
   "source": [
    "SELECT AVG(GPA), STDDEV(GPA) FROM Students"
   ]
  },
  {
   "cell_type": "markdown",
   "metadata": {
    "deletable": false,
    "editable": false,
    "run_control": {
     "frozen": true
    }
   },
   "source": [
    "Finally, the following query uses the SUM, MIN, and MAX functions to display salary information:"
   ]
  },
  {
   "cell_type": "code",
   "execution_count": null,
   "metadata": {
    "deletable": false,
    "editable": false,
    "run_control": {
     "frozen": true
    }
   },
   "outputs": [],
   "source": [
    "############################\n",
    "# Chapter 6 / Deliverable 8\n",
    "############################\n",
    "\n",
    "SELECT SUM(Salary), MIN(Salary), MAX(Salary) FROM Employees"
   ]
  },
  {
   "cell_type": "markdown",
   "metadata": {
    "deletable": false,
    "editable": false,
    "run_control": {
     "frozen": true
    }
   },
   "source": [
    "# Performing Arithmetic Operations\n",
    "\n",
    "\n",
    "The following SELECT query multiplies the sales amount by 5% to determine the sales-tax amount:"
   ]
  },
  {
   "cell_type": "code",
   "execution_count": null,
   "metadata": {
    "deletable": false,
    "editable": false,
    "run_control": {
     "frozen": true
    }
   },
   "outputs": [],
   "source": [
    "SELECT Price, Price*0.05 AS 'Tax Amount' FROM Products WHERE ProductID=7"
   ]
  },
  {
   "cell_type": "markdown",
   "metadata": {
    "deletable": false,
    "editable": false,
    "run_control": {
     "frozen": true
    }
   },
   "source": [
    "To display the tax amount for every product, you can use the following query:"
   ]
  },
  {
   "cell_type": "code",
   "execution_count": null,
   "metadata": {
    "deletable": false,
    "editable": false,
    "run_control": {
     "frozen": true
    }
   },
   "outputs": [],
   "source": [
    "SELECT Description, Price, Price*0.05 AS 'Tax Amount' FROM Products"
   ]
  },
  {
   "cell_type": "markdown",
   "metadata": {
    "deletable": false,
    "editable": false,
    "run_control": {
     "frozen": true
    }
   },
   "source": [
    "There may be times when you must perform more complex arithmetic operations beyond the SUM, AVG, and STDDEV options previously discussed. To help you perform such operations, SQL provides the arithmetic functions.\n",
    "\n",
    "For example, the following SELECT query uses the ROUND function to round the values into dollars and cents:"
   ]
  },
  {
   "cell_type": "code",
   "execution_count": null,
   "metadata": {
    "deletable": false,
    "editable": false,
    "run_control": {
     "frozen": true
    }
   },
   "outputs": [],
   "source": [
    "SELECT Company, ROUND(Price, 2) AS ‘Price’ FROM Stocks"
   ]
  },
  {
   "cell_type": "markdown",
   "metadata": {
    "deletable": false,
    "editable": false,
    "run_control": {
     "frozen": true
    }
   },
   "source": [
    "# Grouping Query Results with GROUP BY\n",
    "\n",
    "Often, you will perform queries to create reports that summarize key operations. For example, you may produce a monthly sales report that summarizes your sales team's results. Depending on the size of your sales team, you may want to group results by division, by region, by sales manager, or even by a combination of each. To perform such operations, you can use the SELECT query GROUP BY clause.\n",
    "\n",
    "The following query, for example, displays current sales data:"
   ]
  },
  {
   "cell_type": "code",
   "execution_count": null,
   "metadata": {
    "deletable": false,
    "editable": false,
    "run_control": {
     "frozen": true
    }
   },
   "outputs": [],
   "source": [
    "SELECT * FROM Sales"
   ]
  },
  {
   "cell_type": "markdown",
   "metadata": {
    "deletable": false,
    "editable": false,
    "run_control": {
     "frozen": true
    }
   },
   "source": [
    "To better analyze your sales, you decide to group the data by region, displaying a count of the number of salespeople in each region. To do so, you would use the GROUP BY clause as follows:"
   ]
  },
  {
   "cell_type": "code",
   "execution_count": null,
   "metadata": {
    "deletable": false,
    "editable": false,
    "run_control": {
     "frozen": true
    }
   },
   "outputs": [],
   "source": [
    "SELECT Region, COUNT(*) FROM SALES GROUP BY Region"
   ]
  },
  {
   "cell_type": "markdown",
   "metadata": {
    "deletable": false,
    "editable": false,
    "run_control": {
     "frozen": true
    }
   },
   "source": [
    "As you have learned, to filter queries, you use the WHERE clause to specify a condition:"
   ]
  },
  {
   "cell_type": "code",
   "execution_count": null,
   "metadata": {
    "deletable": false,
    "editable": false,
    "run_control": {
     "frozen": true
    }
   },
   "outputs": [],
   "source": [
    "SELECT * FROM Students WHERE Instructor='Jones'"
   ]
  },
  {
   "cell_type": "markdown",
   "metadata": {},
   "source": [
    "However, when you use a GROUP BY clause within a SELECT query, you must specify WHERE before you group. As you may imagine, that means WHERE filters rows before grouping. To filter rows after grouping, you must use the HAVING clause. If you try to use a WHERE clause after GROUP BY, SQL will display a syntax error message:"
   ]
  },
  {
   "cell_type": "code",
   "execution_count": null,
   "metadata": {
    "deletable": false,
    "editable": false,
    "run_control": {
     "frozen": true
    }
   },
   "outputs": [],
   "source": [
    "SELECT Region, COUNT(*) FROM SALES GROUP BY Region WHERE Region='West'"
   ]
  },
  {
   "cell_type": "markdown",
   "metadata": {
    "deletable": false,
    "editable": false,
    "run_control": {
     "frozen": true
    }
   },
   "source": [
    "To correct this error, execute the command using the HAVING clause:"
   ]
  },
  {
   "cell_type": "code",
   "execution_count": null,
   "metadata": {
    "deletable": false,
    "editable": false,
    "run_control": {
     "frozen": true
    }
   },
   "outputs": [],
   "source": [
    "SELECT Region, COUNT(*) FROM SALES GROUP BY Region HAVING Region='West'"
   ]
  },
  {
   "cell_type": "markdown",
   "metadata": {
    "deletable": false,
    "editable": false,
    "run_control": {
     "frozen": true
    }
   },
   "source": [
    "The following query will display the subtotals for the inventory contained in each state:"
   ]
  },
  {
   "cell_type": "code",
   "execution_count": null,
   "metadata": {
    "deletable": false,
    "editable": false,
    "run_control": {
     "frozen": true
    }
   },
   "outputs": [],
   "source": [
    "#############################\n",
    "# Chapter 6 / Deliverable 9\n",
    "#############################\n",
    "\n",
    "SELECT State, Product, SUM(Quantity) \n",
    "FROM Inventory\n",
    "GROUP BY State"
   ]
  },
  {
   "cell_type": "markdown",
   "metadata": {
    "deletable": false,
    "editable": false,
    "run_control": {
     "frozen": true
    }
   },
   "source": [
    "Although having state subtotals is valuable, you likely also want to know the total inventory. In such cases, you can use a ROLLUP within the query to direct SQL to “roll up” the subtotals:"
   ]
  },
  {
   "cell_type": "code",
   "execution_count": null,
   "metadata": {
    "deletable": false,
    "editable": false,
    "run_control": {
     "frozen": true
    }
   },
   "outputs": [],
   "source": [
    "SELECT State, Product, SUM(Quantity) \n",
    "FROM Inventory\n",
    "GROUP BY State WITH ROLLUP"
   ]
  },
  {
   "cell_type": "markdown",
   "metadata": {
    "deletable": false,
    "editable": false,
    "run_control": {
     "frozen": true
    }
   },
   "source": [
    "As you can see, SQL does not display a label for the inventory grand total (actually, SQL displays a null). To display a label, you can add a COALESCE statement that directs SQL to substitute the value specified in place of the null, as shown here:"
   ]
  },
  {
   "cell_type": "code",
   "execution_count": null,
   "metadata": {
    "deletable": false,
    "editable": false,
    "run_control": {
     "frozen": true
    }
   },
   "outputs": [],
   "source": [
    "SELECT COALESCE(State, 'Total Inventory') State, Product, SUM(Quantity)\n",
    "FROM Inventory\n",
    "GROUP BY State WITH ROLLUP"
   ]
  },
  {
   "cell_type": "markdown",
   "metadata": {
    "deletable": false,
    "editable": false,
    "run_control": {
     "frozen": true
    }
   },
   "source": [
    "The following query uses a ROLLUP to display a summary of products within each state:"
   ]
  },
  {
   "cell_type": "code",
   "execution_count": null,
   "metadata": {
    "deletable": false,
    "editable": false,
    "run_control": {
     "frozen": true
    }
   },
   "outputs": [],
   "source": [
    "SELECT State, Product, SUM(Quantity)\n",
    "FROM Inventory\n",
    "GROUP BY State, Product WITH ROLLUP"
   ]
  },
  {
   "cell_type": "markdown",
   "metadata": {
    "deletable": false,
    "editable": false,
    "run_control": {
     "frozen": true
    }
   },
   "source": [
    "Finally, the following query produces your complete report:"
   ]
  },
  {
   "cell_type": "code",
   "execution_count": null,
   "metadata": {
    "deletable": false,
    "editable": false,
    "run_control": {
     "frozen": true
    }
   },
   "outputs": [],
   "source": [
    "#############################\n",
    "# Chapter 6 / Deliverable 10\n",
    "#############################\n",
    "\n",
    "SELECT COALESCE(State, 'Total Inventory') State,\n",
    "COALESCE(Product, '') Product,\n",
    "COALESCE(Model, '') Model, SUM(Quantity)\n",
    "FROM Inventory\n",
    "GROUP BY State, Product, Model WITH ROLLUP"
   ]
  },
  {
   "cell_type": "markdown",
   "metadata": {
    "deletable": false,
    "editable": false,
    "run_control": {
     "frozen": true
    }
   },
   "source": [
    "# Joining One Table to Another \n",
    "\n",
    "When you normalize your data design, you will often break one or more tables to achieve your desired normal form. When you later need to query the data, you will need to put the tables back together temporarily for the duration of the query's execution. In such cases you would perform a JOIN operation. The following query, for example, JOINs the Customers and Orders table on a common field (CustomerID):"
   ]
  },
  {
   "cell_type": "code",
   "execution_count": null,
   "metadata": {
    "deletable": false,
    "editable": false,
    "run_control": {
     "frozen": true
    }
   },
   "outputs": [],
   "source": [
    "SELECT Customers.Lastname, Orders.ProductID FROM Customers\n",
    "JOIN Orders ON Customers.CustomerID = Orders.CustomerID"
   ]
  },
  {
   "cell_type": "markdown",
   "metadata": {
    "deletable": false,
    "editable": false,
    "run_control": {
     "frozen": true
    }
   },
   "source": [
    "There’s a lot going on within this query—first, the query precedes the field names with the table names (such as Customers.Lastname). Because JOIN operations use two tables that may each use the same field names, by preceding the field names with the table names, you reduce any chance of confusion as to which field the query references. Next, the JOIN query specifies the name of the second table and the fields within each table upon which the JOIN will be made. As the query executes, SQL will create a temporary table behind the scenes which contains the fields of both tables for the records for which the JOIN fields are equal."
   ]
  },
  {
   "cell_type": "markdown",
   "metadata": {
    "deletable": false,
    "editable": false,
    "run_control": {
     "frozen": true
    }
   },
   "source": [
    "The following query extends the previous JOIN operation to display all the fields within the resultant table:"
   ]
  },
  {
   "cell_type": "code",
   "execution_count": null,
   "metadata": {
    "deletable": false,
    "editable": false,
    "run_control": {
     "frozen": true
    }
   },
   "outputs": [],
   "source": [
    "SELECT * FROM Customers JOIN Orders WHERE Customers.CustomerID = Orders.CustomerID"
   ]
  },
  {
   "cell_type": "markdown",
   "metadata": {
    "deletable": false,
    "editable": false,
    "run_control": {
     "frozen": true
    }
   },
   "source": [
    "When you perform a JOIN operation, to avoid field-name conflicts, you will precede field names with the corresponding table names. To reduce your typing and the length of your queries, SQL lets you create table alias names, to which your query can refer, as a shorthand alternative to the longer table name. The following query uses the table aliases c for Customers and o for Orders. To specify an alias name, you include the alias after the table name reference:"
   ]
  },
  {
   "cell_type": "code",
   "execution_count": null,
   "metadata": {
    "deletable": false,
    "editable": false,
    "run_control": {
     "frozen": true
    }
   },
   "outputs": [],
   "source": [
    "#############################\n",
    "# Chapter 6 / Deliverable 11\n",
    "#############################\n",
    "\n",
    "SELECT * FROM Customers c JOIN Orders o WHERE c.CustomerID = o.CustomerID"
   ]
  },
  {
   "cell_type": "markdown",
   "metadata": {
    "deletable": false,
    "editable": false,
    "run_control": {
     "frozen": true
    }
   },
   "source": [
    "An inner-join returns the intersection between two tables. To direct SQL to perform an inner join, you include the keyword INNER as shown here:"
   ]
  },
  {
   "cell_type": "code",
   "execution_count": null,
   "metadata": {
    "deletable": false,
    "editable": false,
    "run_control": {
     "frozen": true
    }
   },
   "outputs": [],
   "source": [
    "SELECT c.Lastname, o.OrderID FROM Customers c \n",
    "INNER JOIN Orders o WHERE c.CustomerID = o.CustomerID"
   ]
  },
  {
   "cell_type": "markdown",
   "metadata": {
    "deletable": false,
    "editable": false,
    "run_control": {
     "frozen": true
    }
   },
   "source": [
    "Given the customers and orders scenario, you may want to know the names of customers who have not yet placed an order. In such cases, you can perform a different type of JOIN operation that directs SQL not only to return the matching records, but also the records for customers that do not have a matching orders record. \n",
    "\n",
    "A left-join operation will include all matching records, plus records from the table specified on the left that do not have matching records.\n",
    "Because this JOIN operation includes all the records from the left table, the JOIN operation is called a left join. To direct SQL to perform a left join, you include the LEFT keyword within the query as shown here:"
   ]
  },
  {
   "cell_type": "code",
   "execution_count": null,
   "metadata": {
    "deletable": false,
    "editable": false,
    "run_control": {
     "frozen": true
    }
   },
   "outputs": [],
   "source": [
    "SELECT c.Lastname, o.OrderID FROM Customers c \n",
    "LEFT JOIN Orders o ON c.CustomerID = o.CustomerID"
   ]
  },
  {
   "cell_type": "markdown",
   "metadata": {
    "deletable": false,
    "editable": false,
    "run_control": {
     "frozen": true
    }
   },
   "source": [
    "When SQL creates the resulting left-join table, the Orders table will not have matching CustomerID fields for some of the records, and as such, SQL will not have data to include in the Orders table’s side of the JOIN record. When a match does not occur, SQL will assign null values to each field within the Order’s side of the table.\n",
    "Knowing that SQL will assign null values to the missing fields, you can create a query that tests for OrderID IS NULL in order to retrieve the customers who have not yet placed an order:"
   ]
  },
  {
   "cell_type": "code",
   "execution_count": null,
   "metadata": {
    "deletable": false,
    "editable": false,
    "run_control": {
     "frozen": true
    }
   },
   "outputs": [],
   "source": [
    "#############################\n",
    "# Chapter 6 / Deliverable 12\n",
    "#############################\n",
    "\n",
    "SELECT c.Lastname FROM Customers c \n",
    "LEFT JOIN Orders o ON c.CustomerID = o.CustomerID\n",
    "WHERE OrderID IS NULL"
   ]
  },
  {
   "cell_type": "markdown",
   "metadata": {
    "deletable": false,
    "editable": false,
    "run_control": {
     "frozen": true
    }
   },
   "source": [
    "If you are auditing the company’s data, you might want to confirm that every order has an existing customer. In this case, you can perform a right-join operation to retrieve not only the matching records, but also every record that appears in the table specified on the right side of the JOIN operation.\n",
    "\n",
    "In this case, if SQL cannot find a matching customer for an order, it will assign null values to fields within the temporary JOIN table. The following query performs right join and tests for a null value to determine orders without a customer:"
   ]
  },
  {
   "cell_type": "code",
   "execution_count": null,
   "metadata": {
    "deletable": false,
    "editable": false,
    "run_control": {
     "frozen": true
    }
   },
   "outputs": [],
   "source": [
    "SELECT o.OrderID FROM Customers c \n",
    "RIGHT JOIN Orders o ON c.CustomerID = o.CustomerID\n",
    "WHERE c.CustomerID IS NULL"
   ]
  },
  {
   "cell_type": "markdown",
   "metadata": {
    "deletable": false,
    "editable": false,
    "run_control": {
     "frozen": true
    }
   },
   "source": [
    "As you just learned, an SQL JOIN operation lets you temporarily combine two tables based upon a related field. In a related way, SQL UNION and INTERSECT operations let you combine the results of two queries. The UNION operation will produce a result that contains all records from the two tables. The INTERSECT operation will produce a result that contains only those records that appear in both queries. \n",
    "For example, assume you want to know the states for which a university has instructors and students. In such a case, you can use the following UNION query:"
   ]
  },
  {
   "cell_type": "code",
   "execution_count": null,
   "metadata": {
    "deletable": false,
    "editable": false,
    "run_control": {
     "frozen": true
    }
   },
   "outputs": [],
   "source": [
    "#############################\n",
    "# Chapter 6 / Deliverable 13\n",
    "#############################\n",
    "\n",
    "SELECT State FROM Instructors\n",
    "UNION\n",
    "SELECT State FROM Students"
   ]
  },
  {
   "cell_type": "markdown",
   "metadata": {
    "deletable": false,
    "editable": false,
    "run_control": {
     "frozen": true
    }
   },
   "source": [
    "# Importing Data from a Different Database Table\n",
    "\n",
    "Often, you may need to move data from one table into another. In such cases, you can use the MySQL INSERT INTO query. The following query, for example, copies data from the Sales table into the NewSales table:"
   ]
  },
  {
   "cell_type": "code",
   "execution_count": null,
   "metadata": {
    "deletable": false,
    "editable": false,
    "run_control": {
     "frozen": true
    }
   },
   "outputs": [],
   "source": [
    "INSERT INTO NewSales SELECT * FROM Sales"
   ]
  },
  {
   "cell_type": "markdown",
   "metadata": {
    "deletable": false,
    "editable": false,
    "run_control": {
     "frozen": true
    }
   },
   "source": [
    "Likewise, the following query uses INSERT INTO to copy the contents of the Employees table to a backup table named EmployeesBackup:"
   ]
  },
  {
   "cell_type": "code",
   "execution_count": null,
   "metadata": {
    "deletable": false,
    "editable": false,
    "run_control": {
     "frozen": true
    }
   },
   "outputs": [],
   "source": [
    "INSERT INTO EmployeesBackup SELECT * FROM Employees"
   ]
  },
  {
   "cell_type": "markdown",
   "metadata": {
    "deletable": false,
    "editable": false,
    "run_control": {
     "frozen": true
    }
   },
   "source": [
    "The previous INSERT INTO queries copied all fields from the source table. There may be times, however, when you only want to insert specific fields, in such cases, you specify the desired fields within your SELECT query."
   ]
  },
  {
   "cell_type": "markdown",
   "metadata": {
    "deletable": false,
    "editable": false,
    "run_control": {
     "frozen": true
    }
   },
   "source": [
    "In addition, there may be times when you will want to copy the contents of a table that resides in a different database. In such cases, you simply precede the table name with the database name and a period. The following command, for example, would display records contained in the Chapter06 database Students table:\n",
    "\n",
    "```mysql\n",
    "INSERT INTO StudentsBackup SELECT * From Chapter06.Students\n",
    "```\n",
    "Note: Before you can insert one table into another, both tables must exist."
   ]
  }
 ],
 "metadata": {
  "kernelspec": {
   "display_name": "Python 3",
   "language": "python",
   "name": "python3"
  },
  "language_info": {
   "codemirror_mode": {
    "name": "ipython",
    "version": 3
   },
   "file_extension": ".py",
   "mimetype": "text/x-python",
   "name": "python",
   "nbconvert_exporter": "python",
   "pygments_lexer": "ipython3",
   "version": "3.7.6"
  }
 },
 "nbformat": 4,
 "nbformat_minor": 4
}
