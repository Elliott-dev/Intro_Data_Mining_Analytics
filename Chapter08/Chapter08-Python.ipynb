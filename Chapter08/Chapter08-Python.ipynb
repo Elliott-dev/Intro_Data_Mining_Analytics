{
 "cells": [
  {
   "cell_type": "markdown",
   "metadata": {
    "deletable": false,
    "editable": false,
    "run_control": {
     "frozen": true
    }
   },
   "source": [
    "## Chapter 8: Python Programming"
   ]
  },
  {
   "cell_type": "markdown",
   "metadata": {
    "deletable": false,
    "editable": false,
    "run_control": {
     "frozen": true
    }
   },
   "source": [
    "Python is an open-source programming language, widely used for Web applications, data mining, and machine learning. Depending on the category (most in demand, most popular, best to know, and so on), Python is one of the top programming languages. Python is an interpreted programming language for which the Python interpreter processes Python code one statement at a time, as opposed to a compiled language (such as Java or C#), for which the language compiler converts the program’s source code into an executable file. An advantage of Python’s interpreted environment is that you can execute Python statements one at a time, interactively using the interpreter. "
   ]
  },
  {
   "cell_type": "markdown",
   "metadata": {
    "deletable": false,
    "editable": false,
    "run_control": {
     "frozen": true
    }
   },
   "source": [
    "Some of the scripts presented in this notebook use several Python libraries which have been pre-installed for you. If you had been required to install these libaries on your own, you would issue the following commands:\n",
    "\n",
    "```python\n",
    "! pip install --user pandas\n",
    "! pip install --user matplotlib\n",
    "! pip install --user numpy\n",
    "```"
   ]
  },
  {
   "cell_type": "markdown",
   "metadata": {
    "deletable": false,
    "editable": false,
    "run_control": {
     "frozen": true
    }
   },
   "source": [
    "# Python Variables are Dynamic\n",
    "\n",
    "Unlike strongly-typed programming languages, such as Java and C#, for which you must declare a variable before you use it, specifying the variable’s data type and name, Python variables are dynamic, meaning, you simply refer to a variable’s name in order to use it. The following statements illustrate the use of variables within Python. As you can see, the statements use a variable named value in three different ways:"
   ]
  },
  {
   "cell_type": "code",
   "execution_count": null,
   "metadata": {},
   "outputs": [],
   "source": [
    "#####################################\n",
    "# Chapter 8 (Python) / Deliverable 1\n",
    "#####################################\n",
    "\n",
    "value = 1001\n",
    "print(value)\n",
    "value = \"Hello, world!\"\n",
    "print(value)\n",
    "value = 3.14\n",
    "print(\"Area equals: \", 5*5*value)"
   ]
  },
  {
   "cell_type": "markdown",
   "metadata": {
    "deletable": false,
    "editable": false,
    "run_control": {
     "frozen": true
    }
   },
   "source": [
    "# Python Lists\n",
    "\n",
    "An array is a data structure that contains multiple values of the same type within a single variable. Arrays can be one dimensional or multidimensional. To access the values in an array, you use an index value which you specify within left and right brackets []. Like most programming languages, the first element in a Python array is at the index location zero (array[0]), which developers call zero-based indexing. \n",
    "\n",
    "Python does not have an array data structure, per se, but instead uses lists. The following statement, for example, creates a list of values:\n",
    "\n",
    "numbers = [1, 5, 10]\n",
    "\n",
    "In this case, to display the values, you would use the index values 0, 1, and 2:"
   ]
  },
  {
   "cell_type": "code",
   "execution_count": null,
   "metadata": {},
   "outputs": [],
   "source": [
    "numbers = [1, 5, 10]\n",
    "print(numbers[0])\n",
    "print(numbers[1])\n",
    "print(numbers[2])"
   ]
  },
  {
   "cell_type": "markdown",
   "metadata": {
    "deletable": false,
    "editable": false,
    "run_control": {
     "frozen": true
    }
   },
   "source": [
    "In a similar way, the following statement creates a list of days:"
   ]
  },
  {
   "cell_type": "code",
   "execution_count": null,
   "metadata": {},
   "outputs": [],
   "source": [
    "days = [\"Sunday\", \"Monday\", \"Tuesday\", \"Wednesday\", \"Thursday\", \"Friday\", \"Saturday\"]\n",
    "print(days[0])\n",
    "print(days[3])"
   ]
  },
  {
   "cell_type": "markdown",
   "metadata": {
    "deletable": false,
    "editable": false,
    "run_control": {
     "frozen": true
    }
   },
   "source": [
    "A Python list can have multiple dimensions. The following statement creates a two-dimensional list of values:\n",
    "\n",
    "values = [[10, 20, 30], [40, 50, 60], [70, 80, 90]]\n",
    "\n",
    "You can visualize this list as a table.\n",
    "\n",
    "The following script, 2DList.py, creates a two-dimensional list and then uses a for loop (discussed later in this notebook) to display the values:"
   ]
  },
  {
   "cell_type": "code",
   "execution_count": null,
   "metadata": {},
   "outputs": [],
   "source": [
    "values = [[10, 20, 30], [40, 50, 60], [70, 80, 90]]\n",
    "\n",
    "# print lists\n",
    "for index in range(0, 3):\n",
    "  print(values[index])\n",
    "\n",
    "# print individual values\n",
    "for row in range(0, 3):\n",
    "  for column in range(0, 3):\n",
    "    print(values[row][column])"
   ]
  },
  {
   "cell_type": "markdown",
   "metadata": {
    "deletable": false,
    "editable": false,
    "run_control": {
     "frozen": true
    }
   },
   "source": [
    "As you can see, the first for loop displays the row values and the second for loop displays the individual values.\n",
    "When you use for and while loops to manipulate lists, you will often want to know the length of the list. To do so, you can use the Python len function:\n",
    "\n",
    "count = len(someList)\n",
    "\n",
    "To determine the number of rows and columns in a two-dimensional list, you would use:\n",
    "\n",
    "rows = len(someList)\n",
    "columns = len(someList[0])"
   ]
  },
  {
   "cell_type": "markdown",
   "metadata": {
    "deletable": false,
    "editable": false,
    "run_control": {
     "frozen": true
    }
   },
   "source": [
    "# Python Groups Statements Based Upon Statement Indentation\n",
    "\n",
    "If you are familiar with programming languages such as Java, JavaScript, or C#, you know that such languages group related statements within left and right braces {}. Python does not use braces, but rather, Python uses indentation to group related statements. The following if-else statement illustrates Python’s use of indentation to group related statements:"
   ]
  },
  {
   "cell_type": "code",
   "execution_count": null,
   "metadata": {},
   "outputs": [],
   "source": [
    "#####################################\n",
    "# Chapter 8 (Python) / Deliverable 2\n",
    "#####################################\n",
    "\n",
    "age = 21\n",
    "\n",
    "if age >= 21:\n",
    "    print(\"Going to Vegas!\")\n",
    "    print(\"Feeling lucky!\")\n",
    "else:\n",
    "    print(\"One of these days ...\")"
   ]
  },
  {
   "cell_type": "markdown",
   "metadata": {
    "deletable": false,
    "editable": false,
    "run_control": {
     "frozen": true
    }
   },
   "source": [
    "If you examine the statement indentation, you will find the if statement has two related statements and the else statement one. You will examine the if-else statements later in this section. For now, however, beyond the statement indentation, note that the Python syntax requires a colon after the if and else."
   ]
  },
  {
   "cell_type": "markdown",
   "metadata": {
    "deletable": false,
    "editable": false,
    "run_control": {
     "frozen": true
    }
   },
   "source": [
    "# Conditional Processing Using if-elif\n",
    "\n",
    "To provide your scripts with the ability to make decisions, Python provides the *if* construct, the format of which is:\n",
    "\tIf condition:\n",
    "\t    statement\n",
    "\t[elif condition:\n",
    "        statement]\n",
    "    [else:\n",
    "        statement]\n",
    "        \n",
    "The brackets in the if-construct format indicate that the *elif* and *else* are optional. Note the colon that follows the conditions and the else—you must include the colon. Remember, Python, unlike many other programming languages, does not use braces to group related statements. Instead, Python relies on indentation to indicate the statements that go with the *if*, *elif*, and *else*.\n",
    "\n",
    "The following Python script, Conditional.py, illustrates the use of these statements:"
   ]
  },
  {
   "cell_type": "code",
   "execution_count": null,
   "metadata": {},
   "outputs": [],
   "source": [
    "#####################################\n",
    "# Chapter 8 (Python) / Deliverable 3\n",
    "#####################################\n",
    "\n",
    "pet = \"dog\"\n",
    "\n",
    "if pet == 'dog':\n",
    "  print(\"Remember to buy dog biscuits\")\n",
    "elif pet == 'cat':\n",
    "  print(\"Buy some catnip\")\n",
    "else:\n",
    "  print(\"Buy something\")"
   ]
  },
  {
   "cell_type": "markdown",
   "metadata": {
    "deletable": false,
    "editable": false,
    "run_control": {
     "frozen": true
    }
   },
   "source": [
    "# Python Logical Operators\n",
    "\n",
    "When you specify a condition within a Python *if* or *while* statement, there will be times when you must test two or more conditions. To allow you to do so, Python provides the *and*, *or*, and *not* logical operators. The *and* operator examines two conditions and results as true if both of the conditions are true, and false otherwise. In contrast, the *or* operator returns true if either condition is true and false only if both conditions are false.\n",
    "\n",
    "The following Python script, Logical.py, illustrates the use of the Python logical operators:"
   ]
  },
  {
   "cell_type": "code",
   "execution_count": null,
   "metadata": {},
   "outputs": [],
   "source": [
    "#####################################\n",
    "# Chapter 8 (Python) / Deliverable 4\n",
    "#####################################\n",
    "\n",
    "day = 'Sunday'\n",
    "season = 'fall'\n",
    "\n",
    "if season == 'fall' and day == 'Sunday':\n",
    "   print('Football season is here!')\n",
    "else: \n",
    "   print('Football season is coming!')\n",
    "\n",
    "language = 'C#'\n",
    "\n",
    "if language == 'Python' or language == 'R':\n",
    "  print('Learn some machine language!')\n",
    "else:\n",
    "  print('Learn Python and R')"
   ]
  },
  {
   "cell_type": "markdown",
   "metadata": {
    "deletable": false,
    "editable": false,
    "run_control": {
     "frozen": true
    }
   },
   "source": [
    "As you can see, the logical *and* and *or* operators allow you to combine two conditions. Unlike other programming languages, Python does not require you to group your condition within parentheses. "
   ]
  },
  {
   "cell_type": "markdown",
   "metadata": {
    "deletable": false,
    "editable": false,
    "run_control": {
     "frozen": true
    }
   },
   "source": [
    "# Iterative Processing\n",
    "\n",
    "To let your programs repeat a set of statements, Python provides the *for* and *while* loops. The format of the Python *for* loop is different from that used by Java, C++, C#, and JavaScript. The following Python script, OneToTen.py, uses a *for* loop to display the numbers 1 through 10:"
   ]
  },
  {
   "cell_type": "code",
   "execution_count": null,
   "metadata": {},
   "outputs": [],
   "source": [
    "#####################################\n",
    "# Chapter 8 (Python) / Deliverable 5\n",
    "#####################################\n",
    "\n",
    "for i in range(1, 11):\n",
    "  print(i)"
   ]
  },
  {
   "cell_type": "markdown",
   "metadata": {
    "deletable": false,
    "editable": false,
    "run_control": {
     "frozen": true
    }
   },
   "source": [
    "The loop uses the variable i as its control variable. When the loop starts, Python initializes i with a value 1. Within the loop, the code prints the value of i and repeats the loop. Note that the range specified is 1 to 11. The script’s goal is to display the numbers 1 to 10. If the loop were to use range(1, 10), the loop would end when i has the value 10 and the 10 would not be displayed. "
   ]
  },
  {
   "cell_type": "markdown",
   "metadata": {
    "deletable": false,
    "editable": false,
    "run_control": {
     "frozen": true
    }
   },
   "source": [
    "The following Python script, ForList.py, uses a *for* loop to display the elements in a list:"
   ]
  },
  {
   "cell_type": "code",
   "execution_count": null,
   "metadata": {},
   "outputs": [],
   "source": [
    "week = ['Sunday', 'Monday', 'Tuesday', 'Wednesday', 'Thursday', 'Friday', 'Saturday']\n",
    "\n",
    "for day in week:\n",
    "    print(day)"
   ]
  },
  {
   "cell_type": "markdown",
   "metadata": {
    "deletable": false,
    "editable": false,
    "run_control": {
     "frozen": true
    }
   },
   "source": [
    "In this case, the *for* loop uses the control variable day. Again, when the loop begins, Python will assign the variable day the first item in the list. With each iteration, the loop assigns the variable day the next list value."
   ]
  },
  {
   "cell_type": "markdown",
   "metadata": {},
   "source": [
    "Finally, the following Python script, ForDataSet.py, uses a *for* loop to display the rows and columns of a dataset. The script opens the Seattle.csv dataset which contains data about the Seattle housing market. Within the script, the *for* loop uses two control variables. The first is assigned a row index and the second the actual row values. The loop then prints the value of two specific columns:"
   ]
  },
  {
   "cell_type": "code",
   "execution_count": null,
   "metadata": {
    "scrolled": true
   },
   "outputs": [],
   "source": [
    "#####################################\n",
    "# Chapter 8 (Python) / Deliverable 6\n",
    "#####################################\n",
    "\n",
    "import pandas as pd\n",
    "\n",
    "data = pd.read_csv('Seattle.csv')\n",
    "\n",
    "for index, row in data.iterrows():\n",
    "        print(row['price'], row['sqft_living'])"
   ]
  },
  {
   "cell_type": "markdown",
   "metadata": {},
   "source": [
    "# Looping with While Loops\n",
    "\n",
    "In addition to the *for* loop, Python also provides a *while* loop, the format of which is:\n",
    "\n",
    "```python\n",
    "while (condition):\n",
    "    statement\n",
    "```\n",
    "The following Python script, WhileDemo.py, uses a *while* loop to plot data within two lists:"
   ]
  },
  {
   "cell_type": "code",
   "execution_count": null,
   "metadata": {},
   "outputs": [],
   "source": [
    "#####################################\n",
    "# Chapter 8 (Python) / Deliverable 7\n",
    "#####################################\n",
    "\n",
    "import matplotlib.pyplot as plt\n",
    "\n",
    "x = [35,34,32,37,33,33,31,27,35,34,62,54,57,47,50,57,59,52,61,47,50,48,39,40, 45,47,39,44,50,48]\n",
    "\n",
    "y = [79,54,52,77,59,74,73,57,69,75,51,32,40,47,53,36,35,58,59,50,23,22,13,14, 22,7,29,25,9,8]\n",
    "\n",
    "index = 0\n",
    "while index < len(x):  \n",
    "   plt.scatter(x[index], y[index], marker='x', color='red')\n",
    "   index += 1\n",
    "\n",
    "plt.show()"
   ]
  },
  {
   "cell_type": "markdown",
   "metadata": {
    "deletable": false,
    "editable": false,
    "run_control": {
     "frozen": true
    }
   },
   "source": [
    "# Continue and Break Statements\n",
    "\n",
    "Like most programming languages, Python supports the *continue* and *break* statements. When Python encounters a continue statement within a *for* or *while* loop, Python will immediately branch to the next iteration of the loop. The following Python script, ShowOdd.py, uses the continue statement to display only odd values:"
   ]
  },
  {
   "cell_type": "code",
   "execution_count": null,
   "metadata": {},
   "outputs": [],
   "source": [
    "#####################################\n",
    "# Chapter 8 (Python) / Deliverable 8\n",
    "#####################################\n",
    "\n",
    "for i in range(0, 10):\n",
    "  if i % 2 == 0:\n",
    "    continue\n",
    "  print(i)"
   ]
  },
  {
   "cell_type": "markdown",
   "metadata": {
    "deletable": false,
    "editable": false,
    "run_control": {
     "frozen": true
    }
   },
   "source": [
    "The script uses the *modulo* (%) operator to get the remainder of the variable after it has been divided by 2. For even values, the remainder will be 0, which causes the code to continue with the next iteration of the loop. For odd values, the result of the *modulo* operation will be 1, which fails the *if* condition, and so moves on to the line following, which prints the next value."
   ]
  },
  {
   "cell_type": "markdown",
   "metadata": {
    "deletable": false,
    "editable": false,
    "run_control": {
     "frozen": true
    }
   },
   "source": [
    "When Python encounters a *break* statement within a *for* or *while* loop, Python will immediately end the loop’s processing, continuing the script’s execution at the statement that follows the loop. The following Python script, StopAt5.py, illustrates the use of the break statement to end the loop’s processing when the value 5 is encountered:"
   ]
  },
  {
   "cell_type": "code",
   "execution_count": null,
   "metadata": {
    "deletable": false,
    "editable": false
   },
   "outputs": [],
   "source": [
    "for i in range(0, 10):\n",
    "  if i == 5:\n",
    "    break; \n",
    "  print(i)"
   ]
  },
  {
   "cell_type": "markdown",
   "metadata": {
    "deletable": false,
    "editable": false,
    "run_control": {
     "frozen": true
    }
   },
   "source": [
    "Although *continue* and *break* are common to most programming languages, in most instances, you can refactor code that uses them to create a more structured solution. For example, the following code displays the odd values without the need of the *continue* statement:"
   ]
  },
  {
   "cell_type": "code",
   "execution_count": null,
   "metadata": {
    "deletable": false,
    "editable": false
   },
   "outputs": [],
   "source": [
    "for i in range(0, 10):\n",
    "  if i % 2:\n",
    "     print(i)"
   ]
  },
  {
   "cell_type": "markdown",
   "metadata": {
    "deletable": false,
    "editable": false,
    "run_control": {
     "frozen": true
    }
   },
   "source": [
    "In programming, a result of *true* has a value of 1, and a result of *false* has a value of 0. Therefore, this *if* statement can be read as \"if the remainder of this division is 1, the condition is true; if 0, this condition is false.\" This is why an == operator is unnecessary here."
   ]
  },
  {
   "cell_type": "markdown",
   "metadata": {
    "deletable": false,
    "editable": false,
    "run_control": {
     "frozen": true
    }
   },
   "source": [
    "# Python Supports Functions\n",
    "\n",
    "Python is a procedural programming language in that it lets you define and later call functions to perform specific tasks. To create a function within Python, you use the *def* keyword identifying the function name and use indentation to group the function statements. The following Python script, TwoFunctions.py, creates and calls two functions:"
   ]
  },
  {
   "cell_type": "code",
   "execution_count": null,
   "metadata": {},
   "outputs": [],
   "source": [
    "#####################################\n",
    "# Chapter 8 (Python) / Deliverable 9\n",
    "#####################################\n",
    "\n",
    "def Hello(): \n",
    "    print(\"Hello, world!\")\n",
    "\n",
    "def AddValues(a, b):\n",
    "    return(a + b)\n",
    "\n",
    "# call the functions\n",
    "Hello()\n",
    "print(\"The sum of 1 + 2 is: \", AddValues(1, 2))"
   ]
  },
  {
   "cell_type": "markdown",
   "metadata": {
    "deletable": false,
    "editable": false,
    "run_control": {
     "frozen": true
    }
   },
   "source": [
    "As you can see, the script first defines a function named Hello that contains one print statement, which displays the message \"Hello, world!\" Note the colon that follows the function declaration. The Hello function does not receive any parameters, which you indicate by following the function name with the empty parenthesis.\n",
    "\n",
    "The script also defines the AddValues function, which receives two parameter values that Python will assign to the local variables a and b. The function uses the return statement to return the sum of the two parameter values.\n",
    "\n",
    "Within the main program, the script first calls the Hello function by referring to the function name. When you call a function you must include the parenthesis even if the function does not have any parameter values. To call the AddValues function, the script again refers to the function name, this time including values for each parameter within the parenthesis."
   ]
  },
  {
   "cell_type": "markdown",
   "metadata": {},
   "source": [
    "Many Python functions will make use of the default parameter values, meaning if you don’t specify a value for the parameter when you call the function, Python will use the default.\n",
    "\n",
    "When you create your own functions using *def*, you can specify a parameter’s default values by using the assignment operator within the parameter list, as shown here:\n",
    "\n",
    "```python\n",
    "def someFunction(a = 100, b = 200):\n",
    "    return(a + b)\n",
    "```\n",
    "As you can see, to specify the default values, you use the assignment operator to assign a value to one or more of the parameter variables. The following Python script, UseDefault.py, illustrates the use of default parameter values:"
   ]
  },
  {
   "cell_type": "code",
   "execution_count": null,
   "metadata": {},
   "outputs": [],
   "source": [
    "######################################\n",
    "# Chapter 8 (Python) / Deliverable 10\n",
    "######################################\n",
    "\n",
    "def someFunction(a = 100, b = 200):\n",
    "    return(a + b)\n",
    "\n",
    "print(someFunction())\n",
    "print(someFunction(500))\n",
    "print(someFunction(0, 0))\n",
    "print(someFunction(b=300))"
   ]
  },
  {
   "cell_type": "markdown",
   "metadata": {
    "deletable": false,
    "editable": false,
    "run_control": {
     "frozen": true
    }
   },
   "source": [
    "This script calls the function four times, with different parameter values each time. The first uses both default values; the second specifies one parameter by order, such that a = 500; the third specifies two parameters by order, such that a = 0, b = 0; the fourth specifies one parameter by name, such that b = 300."
   ]
  },
  {
   "cell_type": "markdown",
   "metadata": {
    "deletable": false,
    "editable": false,
    "run_control": {
     "frozen": true
    }
   },
   "source": [
    "# Leveraging Python's Built-In Functions\n",
    "\n",
    "Python provides a large set of built-in functions that you can call simply by referring to the function’s name and providing any needed parameters, such as print(“Hello”). \n",
    "\n",
    "The following Python script, BuiltIns.py, illustrates the use of several Python built-in functions:"
   ]
  },
  {
   "cell_type": "code",
   "execution_count": null,
   "metadata": {},
   "outputs": [],
   "source": [
    "print('Hello, world')\n",
    "print(1 + 2 * 5)\n",
    "print('Power of 5 raised to 2 is', pow(5, 2))\n",
    "print('Absolute value of -3 is', abs(-3))\n",
    "print('Sorted list', sorted([3,2,1,5,4]))"
   ]
  },
  {
   "cell_type": "markdown",
   "metadata": {
    "deletable": false,
    "editable": false,
    "run_control": {
     "frozen": true
    }
   },
   "source": [
    "# Python is Object Oriented\n",
    "\n",
    "Python is an object-oriented programming language that lets you create objects from classes that provide attribute values and methods. Objects are specific instances of a class (a \"House\" may be a class, \"yourhouse\" may be an object of that class), and methods are essentially functions, except ones that are attached to, and called on, an object. To access an object’s attribute values or to call an object’s methods, you use dot notation:\n",
    "\n",
    "\tobjectName.SomeAttribute = 7;\n",
    "\tstudent.Name = “Bill Smith”;\n",
    "\tstudent.ShowGrades()\n",
    "\n",
    "The following Python script, StudentObject.py, defines a student class and then uses it to create student objects:"
   ]
  },
  {
   "cell_type": "code",
   "execution_count": null,
   "metadata": {},
   "outputs": [],
   "source": [
    "######################################\n",
    "# Chapter 8 (Python) / Deliverable 11\n",
    "######################################\n",
    "\n",
    "class Student:\n",
    "     def __init__(self, name, age, gpa):\n",
    "         self.name = name\n",
    "         self.age = age\n",
    "         self.gpa = gpa\n",
    "\n",
    "     def show(self):\n",
    "        print('Name:', self.name)\n",
    "        print('Age:', self.age)\n",
    "        print('GPA:', self.gpa)\n",
    "\n",
    "Jim = Student('Jim Smith', 25, 3.6)\n",
    "Mary = Student('Mary Davis', 22, 4.0)\n",
    "\n",
    "Jim.show()\n",
    "Mary.show()"
   ]
  },
  {
   "cell_type": "markdown",
   "metadata": {
    "deletable": false,
    "editable": false,
    "run_control": {
     "frozen": true
    }
   },
   "source": [
    "The script uses the *def* statement to define the Student class. Within the class, the script defines the \\__init\\__ function, which is a Python constructor method, that Python automatically calls each time you create an object (init stands for initializer). In this case, the function assigns 3 values to the object attributes (name, age, and GPA). Within the function, *self* refers to the current object. The script also defines a second function, show, which displays the student’s attribute values. \n",
    "\n",
    "To create an object, the script calls the Student method, passing to it the values to assign to the student attributes. As you can see, to refer to object attributes and methods, the script uses the *dot* operator."
   ]
  },
  {
   "cell_type": "markdown",
   "metadata": {
    "deletable": false,
    "editable": false,
    "run_control": {
     "frozen": true
    }
   },
   "source": [
    "# Understanding Python Modules\n",
    "\n",
    "Python programmers store Python scripts within text files with the .py extension, such as Hello.py. Such a file can be a complete program, or, it can be a module that contains function and class definitions. To use a Python module, within your script, you use the import statement:\n",
    "\n",
    "import moduleName\n",
    "\n",
    "The following Python script, Random100.py imports the rand module and then uses the library's randint method to display 100 random values in the range 1 to 25:"
   ]
  },
  {
   "cell_type": "code",
   "execution_count": null,
   "metadata": {},
   "outputs": [],
   "source": [
    "import random \n",
    "\n",
    "for i in range(0, 100):\n",
    "  print(random.randint(1, 25))"
   ]
  },
  {
   "cell_type": "markdown",
   "metadata": {
    "deletable": false,
    "editable": false,
    "run_control": {
     "frozen": true
    }
   },
   "source": [
    "As you can see, the program refers to functions defined within the module using dot notation: random.randint. \n",
    "\n",
    "Depending on the name of the Python module you are importing, there may be times when you want to create an abbreviated alias name to refer to the module. To do so, you include the AS aliasname following your import statement as shown here:\n",
    "\n",
    "import random as rnd\n",
    "\n",
    "The following Python script, Rnd100.py, illustrates the use of a module alias:"
   ]
  },
  {
   "cell_type": "code",
   "execution_count": null,
   "metadata": {},
   "outputs": [],
   "source": [
    "import random as rnd \n",
    "\n",
    "for i in range(0, 99):\n",
    "  print(rnd.randint(1, 25))"
   ]
  },
  {
   "cell_type": "markdown",
   "metadata": {
    "deletable": false,
    "editable": false
   },
   "source": [
    "As you have seen, when you import a Python module using an import statement, you can call the module’s methods using dot notation:\n",
    "\n",
    "\tmoduleName.method()\n",
    "\t\tor\n",
    "\taliasName.method()\n",
    "\n",
    "To eliminate your need to use the dot notation, you can use a different form of the import statement:\n",
    "\n",
    "    from moduleName import functionName\n",
    "\n",
    "The following Python script, FromImport.py, illustrates the use of this import form:"
   ]
  },
  {
   "cell_type": "code",
   "execution_count": null,
   "metadata": {},
   "outputs": [],
   "source": [
    "from random import randint\n",
    "\n",
    "for i in range(0, 99):\n",
    "  print(randint(1, 25))"
   ]
  },
  {
   "cell_type": "markdown",
   "metadata": {
    "deletable": false,
    "editable": false,
    "run_control": {
     "frozen": true
    }
   },
   "source": [
    "# Understanding Python Dataframe Objects\n",
    "\n",
    "Considering Python's popularity and utility in the data science community, Python programmers will often make extensive use of dataframe objects to store various datasets. You can think of a dataframe as a two-dimensional container that stores a dataset’s rows and columns. The following Python script, UseDataframe.py, builds several dataframes by hand:"
   ]
  },
  {
   "cell_type": "code",
   "execution_count": null,
   "metadata": {},
   "outputs": [],
   "source": [
    "######################################\n",
    "# Chapter 8 (Python) / Deliverable 12\n",
    "######################################\n",
    "\n",
    "from pandas import DataFrame\n",
    "\n",
    "Data = {\n",
    "        'x': [35,34,32,37,33,33,31,27,35,34,62,54,57,47,50,57,59,52,61,47,50,48,39,40,45],\n",
    "        'y': [79,54,52,77,59,74,73,57,69,75,51,32,40,47,53,36,35,58,59,50,23,22,13,14,22]\n",
    "       }\n",
    "\n",
    "df = DataFrame(Data,columns=['x','y'])\n",
    "\n",
    "Sales = {\n",
    "        'Day': ['Mon', 'Tue', 'Wed', 'Thu', 'Fri'],\n",
    "        'Count': [79,54,52,77,59]\n",
    "       }\n",
    "\n",
    "salesdf = DataFrame(Sales,columns=['Day','Count'])\n",
    "\n",
    "print(df.head())\n",
    "print(df.size)\n",
    "print(df.shape)\n",
    "\n",
    "print(salesdf.head(7))\n",
    "print(salesdf.size)\n",
    "print(salesdf.shape)"
   ]
  },
  {
   "cell_type": "markdown",
   "metadata": {},
   "source": [
    "As you can see, this script creates two dataframe objects. One dataframe contains only numeric data and the second contains text and numeric data. The script uses the size, shape, and head methods to display the number of elements in the dataframe, the dimensions, and the first five rows of data. "
   ]
  },
  {
   "cell_type": "markdown",
   "metadata": {
    "deletable": false,
    "editable": false,
    "run_control": {
     "frozen": true
    }
   },
   "source": [
    "Most of the Python scripts this book presents will load dataframe object from a CSV file. The following Python script, LoadDataframe.py, loads a dataset with data from the Titanic dataset that contains data for passengers who lived and died on the Titanic. \n",
    "\n",
    "As you can see, the script uses the read.csv function to read data from the Titanic.csv file. The script then uses the dataframe *describe* method to display specifics about each column:"
   ]
  },
  {
   "cell_type": "code",
   "execution_count": null,
   "metadata": {},
   "outputs": [],
   "source": [
    "######################################\n",
    "# Chapter 8 (Python) / Deliverable 13\n",
    "######################################\n",
    "\n",
    "import pandas as pd\n",
    "from pandas import DataFrame\n",
    "\n",
    "df = pd.read_csv('Titanic.csv')\n",
    "print(df.describe())"
   ]
  },
  {
   "cell_type": "markdown",
   "metadata": {
    "deletable": false,
    "editable": false,
    "run_control": {
     "frozen": true
    }
   },
   "source": [
    "# Using the pandas Package for Numerical Processing\n",
    "\n",
    "The following Python script, UsePandas.py, uses pandas to create a dataframe object, and then to load the Iris.data.csv file, a popular dataset frequently used in data-mining operations, which contains information on three species of the Iris flower. The script then displays several facts about the dataset:"
   ]
  },
  {
   "cell_type": "code",
   "execution_count": null,
   "metadata": {},
   "outputs": [],
   "source": [
    "######################################\n",
    "# Chapter 8 (Python) / Deliverable 14\n",
    "######################################\n",
    "\n",
    "import pandas as pd\n",
    "from pandas import DataFrame\n",
    "\n",
    "df = pd.read_csv('Iris.data.csv')\n",
    "print(df.size)\n",
    "print(df.shape)\n",
    "print(df.describe())"
   ]
  },
  {
   "cell_type": "markdown",
   "metadata": {
    "deletable": false,
    "editable": false,
    "run_control": {
     "frozen": true
    }
   },
   "source": [
    "# Using matplotlib to Create Visualizations\n",
    "\n",
    "Another staple in the Python library catalogue is the matplotlib package, used extensively in the data-mining community for data visualization. The following script, UseMatPlotLib.py, uses the matplotlib library to create a stackedplot chart:"
   ]
  },
  {
   "cell_type": "code",
   "execution_count": null,
   "metadata": {},
   "outputs": [],
   "source": [
    "import numpy as np\n",
    "import matplotlib.pyplot as plt\n",
    "\n",
    "N = 5\n",
    "salesMay = (20, 35, 30, 35, 27)\n",
    "salesJune = (25, 32, 34, 20, 25)\n",
    "ind = np.arange(N)\n",
    "width = 0.35      \n",
    "\n",
    "p1 = plt.bar(ind, salesMay, width)\n",
    "p2 = plt.bar(ind, salesJune, width, bottom=salesMay)\n",
    "\n",
    "plt.ylabel('Sales')\n",
    "plt.title('Sales by Team Member')\n",
    "plt.xticks(ind, ('Bob', 'Bill', 'Mary', 'Gina', 'Wally'))\n",
    "plt.legend((p1[0], p2[0]), ('May', 'June'))\n",
    "\n",
    "plt.show()"
   ]
  },
  {
   "cell_type": "markdown",
   "metadata": {
    "deletable": false,
    "editable": false,
    "run_control": {
     "frozen": true
    }
   },
   "source": [
    "# Using the numpy Package for Numerical Calculations\n",
    "\n",
    "The following Python script, UseNumpy.py, uses numpy to create a 10x2 array of random values. The script then uses the matplotlib library previously discussed to create a scatter chart of the values:"
   ]
  },
  {
   "cell_type": "code",
   "execution_count": null,
   "metadata": {},
   "outputs": [],
   "source": [
    "import numpy as np\n",
    "import matplotlib.pyplot as plt\n",
    "\n",
    "x = np.random.rand(10,1)\n",
    "y = np.random.rand(10,1)\n",
    "\n",
    "plt.title('Random Numpy Values')\n",
    "plt.plot(x,y)\n",
    "\n",
    "plt.show()"
   ]
  },
  {
   "cell_type": "markdown",
   "metadata": {
    "deletable": false,
    "editable": false,
    "run_control": {
     "frozen": true
    }
   },
   "source": [
    "# Using the sklearn Package for Data Mining and Machine Learning\n",
    "\n",
    "Python data-mining and machine-learning scripts make extensive use of the scikit-learn library. The scikit-learn library contains functions your code will use to perform cluster analysis, data classification, linear regression for prediction, and more. \n",
    "\n",
    "The following Python script, UseSklearn.py, uses the library to cluster a dataframe’s values:"
   ]
  },
  {
   "cell_type": "code",
   "execution_count": null,
   "metadata": {},
   "outputs": [],
   "source": [
    "import matplotlib.pyplot as plt\n",
    "from sklearn.cluster import KMeans\n",
    "from pandas import DataFrame\n",
    "\n",
    "Data = {\n",
    "        'x': [35,34,32,37,33,33,31,27,35,34,62,54,57,47,50,57,59,52,61,47,50,48,39,40,45,47,39,44,50,48],\n",
    "        'y': [79,54,52,77,59,74,73,57,69,75,51,32,40,47,53,36,35,58,59,50,23,22,13,14,22,7,29,25,9,8]\n",
    "       }\n",
    "\n",
    "df = DataFrame(Data,columns=['x','y'])\n",
    "\n",
    "kmeans = KMeans(n_clusters=3).fit(df)\n",
    "centroids = kmeans.cluster_centers_\n",
    "plt.title('Clustering with Sklearn')\n",
    "plt.scatter(df['x'], df['y'], c=kmeans.labels_.astype(float))\n",
    "plt.scatter(centroids[:, 0], centroids[:, 1], c='red')\n",
    "plt.show()"
   ]
  }
 ],
 "metadata": {
  "kernelspec": {
   "display_name": "Python 3",
   "language": "python",
   "name": "python3"
  },
  "language_info": {
   "codemirror_mode": {
    "name": "ipython",
    "version": 3
   },
   "file_extension": ".py",
   "mimetype": "text/x-python",
   "name": "python",
   "nbconvert_exporter": "python",
   "pygments_lexer": "ipython3",
   "version": "3.7.6"
  }
 },
 "nbformat": 4,
 "nbformat_minor": 4
}
