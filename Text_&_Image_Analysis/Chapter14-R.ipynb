{
 "cells": [
  {
   "cell_type": "markdown",
   "metadata": {
    "deletable": false,
    "editable": false,
    "run_control": {
     "frozen": true
    }
   },
   "source": [
    "## Chapter 14: Mining Text"
   ]
  },
  {
   "cell_type": "markdown",
   "metadata": {
    "deletable": false,
    "editable": false,
    "run_control": {
     "frozen": true
    }
   },
   "source": [
    "As you may know, data mining is the process of examining datasets for meaningful patterns, and since much of the data on the web is text based, such a place is ripe for data mining. Companies, for example, collect and mine Twitter posts, e-mail messages, and other forms of customer feedback.\n",
    "\n",
    "In general, text mining includes many of the data-mining operations you may be familiar with:\n",
    "\n",
    "    •\tClustering: Grouping related text fragments, documents, or images\n",
    "    •\tClassification: Categorizing text or images\n",
    "    •\tPrediction: Determining the next text in a sequence\n"
   ]
  },
  {
   "cell_type": "markdown",
   "metadata": {},
   "source": [
    "Some of the scripts presented in this notebook use R libraries (known as packages) which have been pre-installed for you. If you had been required to install these libaries on your own, you would issue the commands below.\n",
    "```R\n",
    "install.packages(\"RSentiment\")\n",
    "\n",
    "```"
   ]
  },
  {
   "cell_type": "markdown",
   "metadata": {
    "deletable": false,
    "editable": false,
    "run_control": {
     "frozen": true
    }
   },
   "source": [
    "# Performing Sentiment Analysis\n",
    "\n",
    "Sentiment analysis is the process of examining text to determine if it corresponds to negative, neutral, or positive feedback. To perform sentiment analysis, you can take advantage of several existing packages readily available on the Web.\n",
    "\n",
    "For example, the following R program, Sentiment.R, uses three functions from the RSentiment package to perform its sentiment analysis:\n",
    "\n",
    "    •\tcalculate_total_presence_sentiment: Calculates the number of sentences in each category of sentiment.\n",
    "    •\tcalculate_score: Calculates the score of sentences from -1 (negative) to 1 (positive)\n",
    "    •\tcalculate_sentiment: Predicts the sentiment of sentences."
   ]
  },
  {
   "cell_type": "code",
   "execution_count": null,
   "metadata": {},
   "outputs": [],
   "source": [
    "#################################\n",
    "# Chapter 14 (R) / Deliverable 1\n",
    "#################################\n",
    "\n",
    "library(RSentiment)\n",
    "\n",
    "calculate_total_presence_sentiment(c(\"The meal was excellent\", \"The service was bad!\", \"The wine was too expensive.\", \"The parking was horrible\", \"The service was awesome.\"))\n",
    "calculate_sentiment(c(\"The meal was excellent\", \"The service was bad!\", \"The wine was too expensive.\", \"The parking was horrible\", \"The service was awesome.\"))\n",
    "calculate_score(c(\"The meal was excellent\", \"The service was bad!\", \"The wine was too expensive.\", \"The parking was horrible\", \"The service was awesome.\"))"
   ]
  }
 ],
 "metadata": {
  "kernelspec": {
   "display_name": "R",
   "language": "R",
   "name": "ir"
  },
  "language_info": {
   "codemirror_mode": "r",
   "file_extension": ".r",
   "mimetype": "text/x-r-source",
   "name": "R",
   "pygments_lexer": "r",
   "version": "3.6.2"
  }
 },
 "nbformat": 4,
 "nbformat_minor": 4
}
