{
 "cells": [
  {
   "cell_type": "markdown",
   "metadata": {
    "deletable": false,
    "editable": false,
    "run_control": {
     "frozen": true
    }
   },
   "source": [
    "## Chapter 7: NoSQL Data Analytics"
   ]
  },
  {
   "cell_type": "markdown",
   "metadata": {
    "deletable": false,
    "editable": false,
    "run_control": {
     "frozen": true
    }
   },
   "source": [
    "For the first 50+ years of computing, database developers have made extensive use of SQL relational (table-based) databases. However, the explosive growth of Web- and mobile-based applications have introduced challenges to traditional databases:\n",
    "\n",
    "    •\tThe need to store documents, videos, and less “structured” data\n",
    "    •\tThe need to scale database storage and processing power up and down based upon demand\n",
    "    •\tThe continued need for high performance and reliability\n",
    "\n",
    "In response to these demands, NoSQL databases have emerged, so named because they do not use SQL. Instead, NoSQL databases use query mechanisms that are not SQL. Further, unlike relational databases that store data with tables, NoSQL databases store data in a less structured way, often using the JavaScript Object Notation (JSON) to store objects. This chapter examines NoSQL database processing through the popular MongoDB database.\n",
    "\n",
    "MongoDB is an open-source, object-oriented database created to provide a fast, scalable solution for Web applications. MongoDB stores data as JSON objects. The three primary components of a MongoDB database include:\n",
    "\n",
    "    •\tDatabase: stores data within named collections\n",
    "    •\tCollection: similar to a relational table in that it groups or collects objects\n",
    "    •\tDocument: similar to a record in that it contains name-value pairs"
   ]
  },
  {
   "cell_type": "markdown",
   "metadata": {
    "deletable": false,
    "editable": false,
    "run_control": {
     "frozen": true
    }
   },
   "source": [
    "This notebook performs operations on a database that has been pre-built for you. The commands used to build this database can be found in the chapter07-database.js script file located in the chapter folder.\n",
    "\n",
    "*Note: None of the code found in this notebook is valid in the Jupyter environment. You are to run the code in the MongoDB Server instance you prepared using the instructions in *Getting Started with MongoDB*."
   ]
  },
  {
   "cell_type": "markdown",
   "metadata": {
    "deletable": false,
    "editable": false,
    "run_control": {
     "frozen": true
    }
   },
   "source": [
    "# Querying a MongoDB Collection\n",
    "\n",
    "\n",
    "A MongoDB collection is similar to a table within a relational database(such as MySQL) in that it groups data objects—which MongoDB refers to as documents. A MongoDB database may store many different collections, such as Customers, Products, and Orders.\n",
    "\n",
    "Before accessing collections, we must first open the database we intend to run queries on. We can do this by way of the use command. \n",
    "\n",
    "The use command in MongoDB is unique, with respect to relationable database management systems like SQL, in that it is also the way by which a database is created. By specifying a non-existent database, in the form of use DATABASE_NAME, and then adding data to it, a new database is created.\n",
    "\n",
    "In this case, we are connecting to the existing database MyBusiness. To do so, we issue the following command:"
   ]
  },
  {
   "cell_type": "code",
   "execution_count": null,
   "metadata": {
    "deletable": false,
    "editable": false,
    "run_control": {
     "frozen": true
    }
   },
   "outputs": [],
   "source": [
    "use MyBusiness"
   ]
  },
  {
   "cell_type": "markdown",
   "metadata": {
    "deletable": false,
    "editable": false,
    "run_control": {
     "frozen": true
    }
   },
   "source": [
    "To refer to a specific collection within the current database, you use the notation db.collectionName, where db represents the current database. For example, the statement db.Collection.find() displays all document(records) within the Employees collection, as demonstrated in the following example:\n",
    "\n",
    "*Note: When you issue MongoDB queries, keep in mind that the statements are case dependent—meaning, db.collection.find() with a lowercase f for find is correct and db.collection.Find() is not.*"
   ]
  },
  {
   "cell_type": "code",
   "execution_count": null,
   "metadata": {
    "deletable": false,
    "editable": false,
    "run_control": {
     "frozen": true
    }
   },
   "outputs": [],
   "source": [
    "############################\n",
    "# Chapter 7 / Deliverable 1\n",
    "############################\n",
    "\n",
    "db.Employees.find({ \"Position\": \"Supervisor\" })"
   ]
  },
  {
   "cell_type": "markdown",
   "metadata": {
    "deletable": false,
    "editable": false,
    "run_control": {
     "frozen": true
    }
   },
   "source": [
    "Likewise, the following query would list only those documents with the field value State equal to Arizona:"
   ]
  },
  {
   "cell_type": "code",
   "execution_count": null,
   "metadata": {
    "deletable": false,
    "editable": false,
    "run_control": {
     "frozen": true
    }
   },
   "outputs": [],
   "source": [
    "db.Employees.find({ \"State\": \"Arizona\" })"
   ]
  },
  {
   "cell_type": "markdown",
   "metadata": {
    "deletable": false,
    "editable": false,
    "run_control": {
     "frozen": true
    }
   },
   "source": [
    "If the field that you want to update is part of a nested object, you use dot notation to refer to the field:\n",
    "\n",
    "    db.collection.find({ \"Somefield.NestedField\": \"value\" })\n",
    "\n",
    "There will often be times when you want to return specific fields for a query result. While the first set of brackets in the find() statement are reserved for queries (as seen in our previous examples), the second is used for projection, which allows us to specify or restrict specific fields in our output.\n",
    "To direct MongoDB to return a field, you follow the field name with a 1. By default, MongoDB will always return the \\_id field. By assigning it a value of 0, you remove it from the result.\n",
    "\n",
    "The following query uses find to display only employee namees."
   ]
  },
  {
   "cell_type": "code",
   "execution_count": null,
   "metadata": {
    "deletable": false,
    "editable": false,
    "run_control": {
     "frozen": true
    }
   },
   "outputs": [],
   "source": [
    "db.Employees.find({}, { \"Name\": 1, \"_id\": 0 })"
   ]
  },
  {
   "cell_type": "markdown",
   "metadata": {},
   "source": [
    "If these key-values were specified in the first set of brackets, the request would effectively be \"return records where Name = 1, and id = 0.\" Instead, our statement leaves the  first (query) brackets empty to select all documents in the Employees collection, and in the second, specifies the fields to project to output.\n",
    "\n",
    "One more example, the following query displays student names and phone numbers:"
   ]
  },
  {
   "cell_type": "code",
   "execution_count": null,
   "metadata": {
    "deletable": false,
    "editable": false,
    "run_control": {
     "frozen": true
    }
   },
   "outputs": [],
   "source": [
    "############################\n",
    "# Chapter 7 / Deliverable 2\n",
    "############################\n",
    "\n",
    "db.Students.find({}, { \"Name\": 1, \"Phone\": 1, \"_id\": 0 })"
   ]
  },
  {
   "cell_type": "markdown",
   "metadata": {
    "deletable": false,
    "editable": false,
    "run_control": {
     "frozen": true
    }
   },
   "source": [
    "# Using Relational Operators within a Query\n",
    "\n",
    "As you perform MongoDB queries, there will be times when you will want to retrieve documents for which the field values are equal to, greater than or equal to, less than or equal to(and so on) a specified value. In such cases, you will use the MongoDB relational operators.\n",
    "\n",
    "The following query uses $ne to list employees who do not live in Arizona:"
   ]
  },
  {
   "cell_type": "code",
   "execution_count": null,
   "metadata": {
    "deletable": false,
    "editable": false,
    "run_control": {
     "frozen": true
    }
   },
   "outputs": [],
   "source": [
    "db.Employees.find({ \"State\": { $ne: \"Arizona\" }})"
   ]
  },
  {
   "cell_type": "markdown",
   "metadata": {
    "deletable": false,
    "editable": false,
    "run_control": {
     "frozen": true
    }
   },
   "source": [
    "In a similar way, the following query uses the \\$gte operator to display orders for which the price is greater than or equal to \\\\$39.99:"
   ]
  },
  {
   "cell_type": "code",
   "execution_count": null,
   "metadata": {
    "deletable": false,
    "editable": false,
    "run_control": {
     "frozen": true
    }
   },
   "outputs": [],
   "source": [
    "############################\n",
    "# Chapter 7 / Deliverable 3\n",
    "############################\n",
    "\n",
    "db.Sales.find({ \"Total\": { $gte: 39.99 }})"
   ]
  },
  {
   "cell_type": "markdown",
   "metadata": {
    "deletable": false,
    "editable": false,
    "run_control": {
     "frozen": true
    }
   },
   "source": [
    "# Using Logical Operators\n",
    "\n",
    "As your MongoDB queries become more complex, there will be many times when you must specify multiple conditions, such as the students who are taking a specific course and who have a GPA greater than 3.0. To specify compound conditions, you use the MongoDB logical operators.\n",
    "\n",
    "The following query, uses the logical $or operator to display employees who work in Arizona or AZ:"
   ]
  },
  {
   "cell_type": "code",
   "execution_count": null,
   "metadata": {
    "deletable": false,
    "editable": false,
    "run_control": {
     "frozen": true
    }
   },
   "outputs": [],
   "source": [
    "db.Employees.find({ $or: [{ \"State\": \"Arizona\"} , { \"State\": \"AZ\" }]})"
   ]
  },
  {
   "cell_type": "markdown",
   "metadata": {
    "deletable": false,
    "editable": false,
    "run_control": {
     "frozen": true
    }
   },
   "source": [
    "To display the names and phone numbers for such employees, you can modify the query as follows:"
   ]
  },
  {
   "cell_type": "code",
   "execution_count": null,
   "metadata": {
    "deletable": false,
    "editable": false,
    "run_control": {
     "frozen": true
    }
   },
   "outputs": [],
   "source": [
    "############################\n",
    "# Chapter 7 / Deliverable 4\n",
    "############################\n",
    "\n",
    "db.Employees.find({ $or: [{ \"State\": \"Arizona\"} , { \"State\": \"AZ\" }]}, { Name:1, Phone:1, _id:0 })"
   ]
  },
  {
   "cell_type": "markdown",
   "metadata": {
    "deletable": false,
    "editable": false,
    "run_control": {
     "frozen": true
    }
   },
   "source": [
    "The following query lists supervisors who live in Arizona:"
   ]
  },
  {
   "cell_type": "code",
   "execution_count": null,
   "metadata": {
    "deletable": false,
    "editable": false,
    "run_control": {
     "frozen": true
    }
   },
   "outputs": [],
   "source": [
    "db.Employees.find({ $and: [{ \"State\": \"Arizona\"} , { \"Position\": \"Supervisor\" }]}, { Name:1, Phone:1, _id:0 })"
   ]
  },
  {
   "cell_type": "markdown",
   "metadata": {
    "deletable": false,
    "editable": false,
    "run_control": {
     "frozen": true
    }
   },
   "source": [
    "This query selects for sales team members who do not live in California:"
   ]
  },
  {
   "cell_type": "code",
   "execution_count": null,
   "metadata": {
    "deletable": false,
    "editable": false,
    "run_control": {
     "frozen": true
    }
   },
   "outputs": [],
   "source": [
    "db.Employees.find({ $and: [{\"State\": { $ne: \"California\"}} , { \"Position\": \"Sales\" }]}, { Name:1, State:1, _id:0})"
   ]
  },
  {
   "cell_type": "markdown",
   "metadata": {
    "deletable": false,
    "editable": false,
    "run_control": {
     "frozen": true
    }
   },
   "source": [
    "And finally, the following complex query selects for supervisors who work in Arizona:"
   ]
  },
  {
   "cell_type": "code",
   "execution_count": null,
   "metadata": {
    "deletable": false,
    "editable": false,
    "run_control": {
     "frozen": true
    }
   },
   "outputs": [],
   "source": [
    "############################\n",
    "# Chapter 7 / Deliverable 5\n",
    "############################\n",
    "\n",
    "db.Employees.find({ $and: [{ \"State\": \"Arizona\" ,  \"Position\": \"Supervisor\" }]}, { Name:1, Phone:1, _id:0 })"
   ]
  },
  {
   "cell_type": "markdown",
   "metadata": {
    "deletable": false,
    "editable": false,
    "run_control": {
     "frozen": true
    }
   },
   "source": [
    "# Sorting Your Query Results\t\n",
    "\n",
    "Often, when you perform a database query, you will want to sort your results based on a specific field in ascending (lowest to highest) or descending (highest to lowest) order. To sort your MongoDB query results, you use the *sort* method, using JSON to specify the field upon which you want to sort, as well as the sort order. For example, the following query would sort the Employees collection based on the State field:"
   ]
  },
  {
   "cell_type": "code",
   "execution_count": null,
   "metadata": {
    "deletable": false,
    "editable": false,
    "run_control": {
     "frozen": true
    }
   },
   "outputs": [],
   "source": [
    "db.Employees.find().sort({ \"State\": 1 })  "
   ]
  },
  {
   "cell_type": "markdown",
   "metadata": {
    "deletable": false,
    "editable": false,
    "run_control": {
     "frozen": true
    }
   },
   "source": [
    "The value 1 within the JSON specifies that you want to sort the data in ascending order. To sort in descending order, specify the value -1. Take the following example, which selects for Name and State, and then sorts by State in descending order."
   ]
  },
  {
   "cell_type": "code",
   "execution_count": null,
   "metadata": {
    "deletable": false,
    "editable": false,
    "run_control": {
     "frozen": true
    }
   },
   "outputs": [],
   "source": [
    "db.Employees.find({}, { \"Name\":1, \"State\":1, \"_id\":0 }).sort({ \"State\": -1 })"
   ]
  },
  {
   "cell_type": "markdown",
   "metadata": {
    "deletable": false,
    "editable": false,
    "run_control": {
     "frozen": true
    }
   },
   "source": [
    "The previous query sorted the documents based on a single field. Often there will be times when you will want to sort documents based on two or more fields. In such cases, you comma separate the fields. The following query, for example, will sort the Employees collection by State and then by Position:  "
   ]
  },
  {
   "cell_type": "code",
   "execution_count": null,
   "metadata": {
    "deletable": false,
    "editable": false,
    "run_control": {
     "frozen": true
    }
   },
   "outputs": [],
   "source": [
    "############################\n",
    "# Chapter 7 / Deliverable 6\n",
    "############################\n",
    "\n",
    "db.Employees.find().sort({\"State\": 1, \"Position\": 1})"
   ]
  },
  {
   "cell_type": "markdown",
   "metadata": {
    "deletable": false,
    "editable": false,
    "run_control": {
     "frozen": true
    }
   },
   "source": [
    "# Limiting the Number of Documents a Query Returns\n",
    "\n",
    "If you are working with a large collection, there will be times when you will want to limit the number of documents your query returns. You may, for example, only want to quickly view a collection’s general format, as opposed to waiting for all the records to display. To limit the number of documents a query displays, you use the limit method. The following query, for example, limits the results to output to 3 documents:"
   ]
  },
  {
   "cell_type": "code",
   "execution_count": null,
   "metadata": {
    "deletable": false,
    "editable": false,
    "run_control": {
     "frozen": true
    }
   },
   "outputs": [],
   "source": [
    "############################\n",
    "# Chapter 7 / Deliverable 7\n",
    "############################\n",
    "\n",
    "db.Students.find().limit(3)"
   ]
  },
  {
   "cell_type": "markdown",
   "metadata": {
    "deletable": false,
    "editable": false,
    "run_control": {
     "frozen": true
    }
   },
   "source": [
    "# Grouping MongoDB Query Results\n",
    "\n",
    "Often, to analyze data, you will want to perform such operations on groups of data, such as grouping sales by region, students by year, and so on. To help you perform such grouping operations, MongoDB provides the \\$group operator. The following query, for example, uses \\\\$group to display a count of the number documents in the SalesTeam collection:"
   ]
  },
  {
   "cell_type": "code",
   "execution_count": null,
   "metadata": {
    "deletable": false,
    "editable": false,
    "run_control": {
     "frozen": true
    }
   },
   "outputs": [],
   "source": [
    "############################\n",
    "# Chapter 7 / Deliverable 8\n",
    "############################\n",
    "\n",
    "db.SalesTeam.aggregate(\n",
    "   [\n",
    "      {\n",
    "        $group : {\n",
    "           _id : null,\n",
    "           count: { $sum: 1 }\n",
    "        }\n",
    "      } \n",
    "   ]\n",
    ")"
   ]
  },
  {
   "cell_type": "markdown",
   "metadata": {
    "deletable": false,
    "editable": false,
    "run_control": {
     "frozen": true
    }
   },
   "source": [
    "To create an aggregation in MongoDB you use the aggregate method which will process the documents in a collection as an array, moving through each to perform your calculation. Within the method call, the \\$group operator specifies the field upon which you want to group and the operation, in this case, \\\\$sum, which simply adds 1 to the accumulated value for each document—counting the records."
   ]
  },
  {
   "cell_type": "markdown",
   "metadata": {
    "deletable": false,
    "editable": false,
    "run_control": {
     "frozen": true
    }
   },
   "source": [
    "As you analyze MongoDB data, there will be many times when you will need to perform aggregation operations, such as summing and averaging data, determining the minimum or maximum value, or calculating a standard deviation. To help you perform such operations, MongoDB provides the following operators:\n",
    "\n",
    "   * \\$avg\n",
    "   * \\$sum\n",
    "   * \\$max\n",
    "   * \\$min\n",
    "   * \\$stdDevPop\n",
    "   * \\$stdDevSamp\n",
    "\n",
    "\n",
    "The following query, for example, uses $avg to calculate the average product price:"
   ]
  },
  {
   "cell_type": "code",
   "execution_count": null,
   "metadata": {
    "deletable": false,
    "editable": false,
    "run_control": {
     "frozen": true
    }
   },
   "outputs": [],
   "source": [
    "############################\n",
    "# Chapter 7 / Deliverable 9\n",
    "############################\n",
    "\n",
    "db.Products.aggregate(\n",
    "   [\n",
    "     {\n",
    "       $group:\n",
    "         {\n",
    "           _id: \"1\",\n",
    "           avgPrice: { $avg: \"$Price\" }\n",
    "         }\n",
    "     }\n",
    "   ]\n",
    ")"
   ]
  },
  {
   "cell_type": "markdown",
   "metadata": {
    "deletable": false,
    "editable": false,
    "run_control": {
     "frozen": true
    }
   },
   "source": [
    "In a similar way, the following queries display the maximum product price:"
   ]
  },
  {
   "cell_type": "code",
   "execution_count": null,
   "metadata": {
    "deletable": false,
    "editable": false,
    "run_control": {
     "frozen": true
    }
   },
   "outputs": [],
   "source": [
    "#############################\n",
    "# Chapter 7 / Deliverable 10\n",
    "#############################\n",
    "\n",
    "db.Products.aggregate(\n",
    "   [\n",
    "     {\n",
    "       $group:\n",
    "         {\n",
    "           _id: \"1\",\n",
    "           MaxPrice: { $max: \"$Price\" }\n",
    "         }\n",
    "     }\n",
    "   ]\n",
    ")"
   ]
  },
  {
   "cell_type": "markdown",
   "metadata": {
    "deletable": false,
    "editable": false,
    "run_control": {
     "frozen": true
    }
   },
   "source": [
    "This query sums the company’s sales:"
   ]
  },
  {
   "cell_type": "code",
   "execution_count": null,
   "metadata": {
    "deletable": false,
    "editable": false,
    "run_control": {
     "frozen": true
    }
   },
   "outputs": [],
   "source": [
    "db.Sales.aggregate(\n",
    "   [\n",
    "     {\n",
    "       $group:\n",
    "         {\n",
    "           _id: \"1\",\n",
    "           TotalSales: { $sum: \"$Total\" }\n",
    "         }\n",
    "     }\n",
    "   ]\n",
    ")"
   ]
  },
  {
   "cell_type": "markdown",
   "metadata": {
    "deletable": false,
    "editable": false,
    "run_control": {
     "frozen": true
    }
   },
   "source": [
    "And finally, the following query uses $group to group sales by customer:"
   ]
  },
  {
   "cell_type": "code",
   "execution_count": null,
   "metadata": {
    "deletable": false,
    "editable": false,
    "run_control": {
     "frozen": true
    }
   },
   "outputs": [],
   "source": [
    "db.Sales.aggregate([{ $group: { _id: \"$CustomerID\", total: { $sum: \"$Total\" }}}, { $sort: { total: -1 } }])"
   ]
  },
  {
   "cell_type": "markdown",
   "metadata": {
    "deletable": false,
    "editable": false,
    "run_control": {
     "frozen": true
    }
   },
   "source": [
    "# Inserting Data into a MongoDB Collection\n",
    "\n",
    "MongoDB databases store data as documents within a collection. To insert a document (record) into a collection, you use the insert method, specifying the object’s name-value pairs using JSON. The following query, for example, will insert a document into the Students collection:"
   ]
  },
  {
   "cell_type": "code",
   "execution_count": null,
   "metadata": {
    "deletable": false,
    "editable": false,
    "run_control": {
     "frozen": true
    }
   },
   "outputs": [],
   "source": [
    "db.Students.insert( { \"StudentID\": 601, \"Name\": \"Alvin Dawson\", \"Year\": \"F\", \"Phone\": \"555-1232\", \"Email\": \"AD@gmail.com\" });"
   ]
  },
  {
   "cell_type": "markdown",
   "metadata": {
    "deletable": false,
    "editable": false,
    "run_control": {
     "frozen": true
    }
   },
   "source": [
    "When you insert document values, the order in which you specify the JSON name-value pairs does not matter. The following queries, with the order of the name-value pairs changed, are each valid queries:"
   ]
  },
  {
   "cell_type": "code",
   "execution_count": null,
   "metadata": {
    "deletable": false,
    "editable": false,
    "run_control": {
     "frozen": true
    }
   },
   "outputs": [],
   "source": [
    "db.Students.insert({ \"StudentID\": 601, \"Year\": \"F\", \"Phone\": \"555-1312\", \"Email\": \"MR@gmail.com\", \"Name\": \"Manny Reece\"  });\n",
    "db.Students.insert({ \"Name\": \"Ben Salmon\", \"StudentID\": 701, \"Year\": \"F\", \"Phone\": \"555-1362\", \"Email\": \"BS@gmail.com\" });"
   ]
  },
  {
   "cell_type": "markdown",
   "metadata": {
    "deletable": false,
    "editable": false,
    "run_control": {
     "frozen": true
    }
   },
   "source": [
    "MongoDB is often described as “less structured” than a traditional relational database. As such, when you insert a document within a collection, you do not need to provide a fixed number of name-value pairs. Instead, you can specify name-value pairs for all the collection fields, some of the fields, or for even more fields than you thought the collection contained. For example, the following queries will each create documents within the Employees collection:"
   ]
  },
  {
   "cell_type": "code",
   "execution_count": null,
   "metadata": {
    "deletable": false,
    "editable": false,
    "run_control": {
     "frozen": true
    }
   },
   "outputs": [],
   "source": [
    "#############################\n",
    "# Chapter 7 / Deliverable 11\n",
    "#############################\n",
    "\n",
    "db.Employees.insert( { \"_id\": 50101, \"Name\": \"Julie Adams\", \"Position\": \"Sales\", \"Phone\": \"555-1316\", \"Region\": \"West\" } );\n",
    "db.Employees.insert( { \"_id\": 52345, \"Name\": \"Bobby Lewis\", \"Phone\": \"555-1217\", \"Region\": \"East\" } );\n",
    "db.Employees.insert( { \"_id\": 50301, \"Name\": \"Marvin Train\", \"Position\": \"Supervisor\", \"Phone\": \"555-3218\" } );"
   ]
  },
  {
   "cell_type": "markdown",
   "metadata": {
    "deletable": false,
    "editable": false,
    "run_control": {
     "frozen": true
    }
   },
   "source": [
    "As you can see, each insert operation specifies a different number of name-value pairs. One even specifies extra fields. MongoDB will insert each of these documents into the collection."
   ]
  },
  {
   "cell_type": "markdown",
   "metadata": {
    "deletable": false,
    "editable": false,
    "run_control": {
     "frozen": true
    }
   },
   "source": [
    "# Updating a MongoDB Document\n",
    "\n",
    "Just as there will be times when you must insert new documents into a collection, there will also be times when you must update an existing document. To update a MongoDB document, you use the update method, using JSON to specify the fields and values you desire. The following query, for example, updates the employee with the ID 12345 to the position of supervisor:"
   ]
  },
  {
   "cell_type": "code",
   "execution_count": null,
   "metadata": {
    "deletable": false,
    "editable": false,
    "run_control": {
     "frozen": true
    }
   },
   "outputs": [],
   "source": [
    "db.Employees.update({ \"_id\": 12345}, { $set: { \"Position\": \"Supervisor\"}} )"
   ]
  },
  {
   "cell_type": "markdown",
   "metadata": {
    "deletable": false,
    "editable": false,
    "run_control": {
     "frozen": true
    }
   },
   "source": [
    "The query uses \\$set to specify the field to set. If you do not specify \\\\$set, MongoDB would update the remaining fields."
   ]
  },
  {
   "cell_type": "markdown",
   "metadata": {
    "deletable": false,
    "editable": false,
    "run_control": {
     "frozen": true
    }
   },
   "source": [
    "In a similar way, the following query updates employees who have the abbreviation AZ within the State field to use instead the complete state name:"
   ]
  },
  {
   "cell_type": "code",
   "execution_count": null,
   "metadata": {
    "deletable": false,
    "editable": false,
    "run_control": {
     "frozen": true
    }
   },
   "outputs": [],
   "source": [
    "db.Employees.update({ \"State\": \"AZ\" }, { $set: { \"State\": \"Arizona\"}} )"
   ]
  },
  {
   "cell_type": "markdown",
   "metadata": {
    "deletable": false,
    "editable": false,
    "run_control": {
     "frozen": true
    }
   },
   "source": [
    "Finally, this query uses $set to update multiple fields for employee 10301:"
   ]
  },
  {
   "cell_type": "code",
   "execution_count": null,
   "metadata": {
    "deletable": false,
    "editable": false,
    "run_control": {
     "frozen": true
    }
   },
   "outputs": [],
   "source": [
    "#############################\n",
    "# Chapter 7 / Deliverable 12\n",
    "#############################\n",
    "\n",
    "db.Employees.update({ \"_id\": 10301 }, { $set: { \"State\": \"Montana\", \"Phone\": \"777-3333\" }} )"
   ]
  },
  {
   "cell_type": "markdown",
   "metadata": {
    "deletable": false,
    "editable": false,
    "run_control": {
     "frozen": true
    }
   },
   "source": [
    "# Deleting MongoDB Documents \n",
    "\n",
    "Just as there will be times when you insert or update documents within a collection, there will also be times when you must delete documents. To delete one or more documents, you use the deleteOne or deleteMany methods. The following query, for example, deletes the employee with the ID 12345:"
   ]
  },
  {
   "cell_type": "code",
   "execution_count": null,
   "metadata": {
    "deletable": false,
    "editable": false,
    "run_control": {
     "frozen": true
    }
   },
   "outputs": [],
   "source": [
    "db.Employees.deleteOne({ \"_id\": 12345})"
   ]
  },
  {
   "cell_type": "markdown",
   "metadata": {
    "deletable": false,
    "editable": false,
    "run_control": {
     "frozen": true
    }
   },
   "source": [
    "Likewise, this query will delete all employees that work in California:"
   ]
  },
  {
   "cell_type": "code",
   "execution_count": null,
   "metadata": {
    "deletable": false,
    "editable": false,
    "run_control": {
     "frozen": true
    }
   },
   "outputs": [],
   "source": [
    "db.Employees.deleteMany( { \"State\": \"California\" } )"
   ]
  },
  {
   "cell_type": "markdown",
   "metadata": {},
   "source": [
    "Be careful when you use the deleteMany method. If you specify delete without any parameter, it will delete all records within the collection:\n",
    "\n",
    "```json\n",
    "db.Employees.deleteMany({ })\n",
    "```"
   ]
  },
  {
   "cell_type": "markdown",
   "metadata": {
    "deletable": false,
    "editable": false,
    "run_control": {
     "frozen": true
    }
   },
   "source": [
    "# Creating and Dropping MongoDB Collections and Databases\n",
    "As you have learned, a MongoDB database stores objects within a named collection. To create a collection, you use the db.createCollection(“collection name”) query. For example, to create a collection named PartTimeEmployees, you would use:"
   ]
  },
  {
   "cell_type": "code",
   "execution_count": null,
   "metadata": {
    "deletable": false,
    "editable": false,
    "run_control": {
     "frozen": true
    }
   },
   "outputs": [],
   "source": [
    "db.createCollection(\"PartTimeEmployees\")"
   ]
  },
  {
   "cell_type": "markdown",
   "metadata": {
    "deletable": false,
    "editable": false,
    "run_control": {
     "frozen": true
    }
   },
   "source": [
    "To delete (drop) a collection, you use the drop method. The following query, for example, drops the Students collection:"
   ]
  },
  {
   "cell_type": "code",
   "execution_count": null,
   "metadata": {
    "deletable": false,
    "editable": false,
    "run_control": {
     "frozen": true
    }
   },
   "outputs": [],
   "source": [
    "db.Students.drop() "
   ]
  },
  {
   "cell_type": "markdown",
   "metadata": {
    "deletable": false,
    "editable": false,
    "run_control": {
     "frozen": true
    }
   },
   "source": [
    "Likewise, to delete the current database, you use the db.dropDatabase() method. Be careful when you execute the db.dropDatabase() method, as MongoDB will delete the database even if it contains collections."
   ]
  }
 ],
 "metadata": {
  "kernelspec": {
   "display_name": "Python 3",
   "language": "python",
   "name": "python3"
  },
  "language_info": {
   "codemirror_mode": {
    "name": "ipython",
    "version": 3
   },
   "file_extension": ".py",
   "mimetype": "text/x-python",
   "name": "python",
   "nbconvert_exporter": "python",
   "pygments_lexer": "ipython3",
   "version": "3.7.6"
  }
 },
 "nbformat": 4,
 "nbformat_minor": 4
}
